{
 "cells": [
  {
   "cell_type": "code",
   "execution_count": 1,
   "metadata": {},
   "outputs": [],
   "source": [
    "import selenium\n",
    "from selenium.webdriver import Chrome\n",
    "#from bs4 import BeautifulSoup\n",
    "import time"
   ]
  },
  {
   "cell_type": "code",
   "execution_count": 2,
   "metadata": {},
   "outputs": [
    {
     "name": "stderr",
     "output_type": "stream",
     "text": [
      "C:\\Users\\user\\AppData\\Local\\Temp\\ipykernel_21408\\1091551773.py:1: DeprecationWarning: executable_path has been deprecated, please pass in a Service object\n",
      "  driver = Chrome(r\"C:\\Users\\user\\chromedriver.exe\") # 다운로드 기본폴더 등 설정 먼저 세팅해놓기\n"
     ]
    }
   ],
   "source": [
    "driver = Chrome(r\"C:\\Users\\user\\chromedriver.exe\") # 다운로드 기본폴더 등 설정 먼저 세팅해놓기"
   ]
  },
  {
   "cell_type": "code",
   "execution_count": 3,
   "metadata": {},
   "outputs": [],
   "source": [
    "#driver.get('https://opengov.seoul.go.kr/sanction/19389749')"
   ]
  },
  {
   "cell_type": "code",
   "execution_count": 4,
   "metadata": {},
   "outputs": [],
   "source": [
    "#soup =BeautifulSoup(driver.page_source,'lxml')"
   ]
  },
  {
   "cell_type": "code",
   "execution_count": 5,
   "metadata": {},
   "outputs": [
    {
     "data": {
      "text/plain": [
       "'\\n//*[@id=\"content\"]/div/div[2]/div[3]/ul/li[1]/span/a - Copy Xpath\\n//*[@id=\"content\"]/div/div[2]/div[3]/ul/li/span/a - Copy Xpath\\n/html/body/div[2]/div/div/div[2]/div/div/div/div/div[2]/div[3]/ul/li[1]/span/a - Copy full Xpath\\n---pdf---\\n//*[@id=\"content\"]/div/div[2]/div[3]/ul/li[1]/span/a[1] - Copy Xpath - pdf다운로드\\n//*[@id=\"content\"]/div/div[2]/div[3]/ul/li[1]/span/a[2] - Copy Xpath - 한글다운로드\\n'"
      ]
     },
     "execution_count": 5,
     "metadata": {},
     "output_type": "execute_result"
    }
   ],
   "source": [
    "#content > div > div.view-content.view-content-article > div:nth-child(5) > ul > li:nth-child(1)\n",
    "#content > div > div.view-content.view-content-article > div:nth-child(5) > ul > li:nth-child(1) > span > a\n",
    "'''\n",
    "//*[@id=\"content\"]/div/div[2]/div[3]/ul/li[1]/span/a - Copy Xpath\n",
    "//*[@id=\"content\"]/div/div[2]/div[3]/ul/li/span/a - Copy Xpath\n",
    "/html/body/div[2]/div/div/div[2]/div/div/div/div/div[2]/div[3]/ul/li[1]/span/a - Copy full Xpath\n",
    "---pdf---\n",
    "//*[@id=\"content\"]/div/div[2]/div[3]/ul/li[1]/span/a[1] - Copy Xpath - pdf다운로드\n",
    "//*[@id=\"content\"]/div/div[2]/div[3]/ul/li[1]/span/a[2] - Copy Xpath - 한글다운로드\n",
    "'''"
   ]
  },
  {
   "cell_type": "code",
   "execution_count": 6,
   "metadata": {},
   "outputs": [],
   "source": [
    "#driver.find_element_by_xpath('//*[@id=\"content\"]/div/div[2]/div[3]/ul/li[1]/span/a').click() #다운로드 됨"
   ]
  },
  {
   "cell_type": "code",
   "execution_count": 7,
   "metadata": {},
   "outputs": [],
   "source": [
    "#driver.get('https://opengov.seoul.go.kr/sanction/23830877')"
   ]
  },
  {
   "cell_type": "code",
   "execution_count": 8,
   "metadata": {},
   "outputs": [],
   "source": [
    "#driver.find_element_by_xpath('//*[@id=\"content\"]/div/div[2]/div[3]/ul/li[1]/span/a').click()"
   ]
  },
  {
   "cell_type": "code",
   "execution_count": 9,
   "metadata": {},
   "outputs": [],
   "source": [
    "#driver.quit()"
   ]
  },
  {
   "cell_type": "code",
   "execution_count": 10,
   "metadata": {},
   "outputs": [],
   "source": [
    "#del driver"
   ]
  },
  {
   "cell_type": "code",
   "execution_count": 11,
   "metadata": {},
   "outputs": [],
   "source": [
    "def get_download(url):\n",
    "    driver.get(url)\n",
    "    time.sleep(1)\n",
    "    download_file= driver.find_elements_by_xpath('//*[@id=\"content\"]/div/div[2]/div[3]/ul/li[1]/span/a')\n",
    "    for i in range(len(download_file)):\n",
    "        download_file[i].click()\n",
    "        time.sleep(0.5)\n",
    "    time.sleep(0.5)"
   ]
  },
  {
   "cell_type": "code",
   "execution_count": 12,
   "metadata": {},
   "outputs": [],
   "source": [
    "url_list= sorted(['https://opengov.seoul.go.kr/sanction/19389749',\n",
    " 'https://opengov.seoul.go.kr/sanction/16589793',\n",
    " 'https://opengov.seoul.go.kr/sanction/12415226',\n",
    " 'https://opengov.seoul.go.kr/sanction/16009002',\n",
    " 'https://opengov.seoul.go.kr/sanction/15176196',\n",
    " 'https://opengov.seoul.go.kr/sanction/9806595',\n",
    " 'https://opengov.seoul.go.kr/sanction/9312789',\n",
    " 'https://opengov.seoul.go.kr/sanction/9060039',\n",
    " 'https://opengov.seoul.go.kr/sanction/8920898',\n",
    " 'https://opengov.seoul.go.kr/sanction/8921724',\n",
    " 'https://opengov.seoul.go.kr/sanction/8838930',\n",
    " 'https://opengov.seoul.go.kr/sanction/21813389',\n",
    " 'https://opengov.seoul.go.kr/sanction/21578999',\n",
    " 'https://opengov.seoul.go.kr/sanction/21001001',\n",
    " 'https://opengov.seoul.go.kr/sanction/20805339',\n",
    " 'https://opengov.seoul.go.kr/sanction/20623911',\n",
    " 'https://opengov.seoul.go.kr/sanction/16890268',\n",
    " 'https://opengov.seoul.go.kr/sanction/24176160',\n",
    " 'https://opengov.seoul.go.kr/sanction/24135569',\n",
    " 'https://opengov.seoul.go.kr/sanction/24098584',\n",
    " 'https://opengov.seoul.go.kr/sanction/24088761',\n",
    " 'https://opengov.seoul.go.kr/sanction/19164002',\n",
    " 'https://opengov.seoul.go.kr/sanction/23305866',\n",
    " 'https://opengov.seoul.go.kr/sanction/12436328',\n",
    " 'https://opengov.seoul.go.kr/sanction/19262801',\n",
    " 'https://opengov.seoul.go.kr/sanction/16832876',\n",
    " 'https://opengov.seoul.go.kr/sanction/13861898',\n",
    " 'https://opengov.seoul.go.kr/sanction/13606150',\n",
    " 'https://opengov.seoul.go.kr/sanction/19405814',\n",
    " 'https://opengov.seoul.go.kr/sanction/16843410',\n",
    " 'https://opengov.seoul.go.kr/sanction/19129611',\n",
    " 'https://opengov.seoul.go.kr/sanction/10208640',\n",
    " 'https://opengov.seoul.go.kr/sanction/10393646',\n",
    " 'https://opengov.seoul.go.kr/sanction/12194872',\n",
    " 'https://opengov.seoul.go.kr/sanction/21451013',\n",
    " 'https://opengov.seoul.go.kr/sanction/23888812',\n",
    " 'https://opengov.seoul.go.kr/sanction/25490696',\n",
    " 'https://opengov.seoul.go.kr/sanction/20007089',\n",
    " 'https://opengov.seoul.go.kr/sanction/16962449',\n",
    " 'https://opengov.seoul.go.kr/sanction/14201165',\n",
    " 'https://opengov.seoul.go.kr/sanction/12823541',\n",
    " 'https://opengov.seoul.go.kr/sanction/9588260',\n",
    " 'https://opengov.seoul.go.kr/sanction/15631550',\n",
    " 'https://opengov.seoul.go.kr/sanction/19268703',\n",
    " 'https://opengov.seoul.go.kr/sanction/22814682',\n",
    " 'https://opengov.seoul.go.kr/sanction/23809456',\n",
    " 'https://opengov.seoul.go.kr/sanction/21469841',\n",
    " 'https://opengov.seoul.go.kr/sanction/21925083',\n",
    " 'https://opengov.seoul.go.kr/sanction/19356456',\n",
    " 'https://opengov.seoul.go.kr/sanction/21829652',\n",
    " 'https://opengov.seoul.go.kr/sanction/23388667',\n",
    " 'https://opengov.seoul.go.kr/sanction/23408346',\n",
    " 'https://opengov.seoul.go.kr/sanction/21524450',\n",
    " 'https://opengov.seoul.go.kr/sanction/18731900',\n",
    " 'https://opengov.seoul.go.kr/sanction/18021595',\n",
    " 'https://opengov.seoul.go.kr/sanction/17147066',\n",
    " 'https://opengov.seoul.go.kr/sanction/13828835',\n",
    " 'https://opengov.seoul.go.kr/sanction/11254678',\n",
    " 'https://opengov.seoul.go.kr/sanction/8462084',\n",
    " 'https://opengov.seoul.go.kr/sanction/7908157',\n",
    " 'https://opengov.seoul.go.kr/sanction/20884610',\n",
    " 'https://opengov.seoul.go.kr/sanction/19230555',\n",
    " 'https://opengov.seoul.go.kr/sanction/20415870',\n",
    " 'https://opengov.seoul.go.kr/sanction/15317258',\n",
    " 'https://opengov.seoul.go.kr/sanction/17082819',\n",
    " 'https://opengov.seoul.go.kr/sanction/14631113',\n",
    " 'https://opengov.seoul.go.kr/sanction/9937407',\n",
    " 'https://opengov.seoul.go.kr/sanction/13282451',\n",
    " 'https://opengov.seoul.go.kr/sanction/14191984',\n",
    " 'https://opengov.seoul.go.kr/sanction/9635665',\n",
    " 'https://opengov.seoul.go.kr/sanction/21782846',\n",
    " 'https://opengov.seoul.go.kr/sanction/24966516',\n",
    " 'https://opengov.seoul.go.kr/sanction/21872055',\n",
    " 'https://opengov.seoul.go.kr/sanction/20004263',\n",
    " 'https://opengov.seoul.go.kr/sanction/17525854',\n",
    " 'https://opengov.seoul.go.kr/sanction/15867479',\n",
    " 'https://opengov.seoul.go.kr/sanction/14454785',\n",
    " 'https://opengov.seoul.go.kr/sanction/8683607',\n",
    " 'https://opengov.seoul.go.kr/sanction/14266407',\n",
    " 'https://opengov.seoul.go.kr/sanction/23830877',\n",
    " 'https://opengov.seoul.go.kr/sanction/21776091',\n",
    " 'https://opengov.seoul.go.kr/sanction/16551682',\n",
    " 'https://opengov.seoul.go.kr/sanction/13672755',\n",
    " 'https://opengov.seoul.go.kr/sanction/18074764',\n",
    " 'https://opengov.seoul.go.kr/sanction/13496304',\n",
    " 'https://opengov.seoul.go.kr/sanction/16850662',\n",
    " 'https://opengov.seoul.go.kr/sanction/17094460',\n",
    " 'https://opengov.seoul.go.kr/sanction/24825752',\n",
    " 'https://opengov.seoul.go.kr/sanction/24937510',\n",
    " 'https://opengov.seoul.go.kr/sanction/21822759',\n",
    " 'https://opengov.seoul.go.kr/sanction/19210384',\n",
    " 'https://opengov.seoul.go.kr/sanction/16009528',\n",
    " 'https://opengov.seoul.go.kr/sanction/25383471',\n",
    " 'https://opengov.seoul.go.kr/sanction/24998274',\n",
    " 'https://opengov.seoul.go.kr/sanction/23902972',\n",
    " 'https://opengov.seoul.go.kr/sanction/16186433',\n",
    " 'https://opengov.seoul.go.kr/sanction/25044491',\n",
    " 'https://opengov.seoul.go.kr/sanction/24973362',\n",
    " 'https://opengov.seoul.go.kr/sanction/21897691',\n",
    " 'https://opengov.seoul.go.kr/sanction/21762665',\n",
    " 'https://opengov.seoul.go.kr/sanction/11839179',\n",
    " 'https://opengov.seoul.go.kr/sanction/14859976',\n",
    " 'https://opengov.seoul.go.kr/sanction/13918562',\n",
    " 'https://opengov.seoul.go.kr/sanction/18772126',\n",
    " 'https://opengov.seoul.go.kr/sanction/11216182',\n",
    " 'https://opengov.seoul.go.kr/sanction/8781721',\n",
    " 'https://opengov.seoul.go.kr/sanction/22992995'])"
   ]
  },
  {
   "cell_type": "code",
   "execution_count": 13,
   "metadata": {},
   "outputs": [],
   "source": [
    "#url_list"
   ]
  },
  {
   "cell_type": "code",
   "execution_count": 14,
   "metadata": {},
   "outputs": [
    {
     "data": {
      "text/plain": [
       "107"
      ]
     },
     "execution_count": 14,
     "metadata": {},
     "output_type": "execute_result"
    }
   ],
   "source": [
    "len(url_list)"
   ]
  },
  {
   "cell_type": "code",
   "execution_count": 16,
   "metadata": {},
   "outputs": [
    {
     "name": "stderr",
     "output_type": "stream",
     "text": [
      "C:\\Users\\user\\AppData\\Local\\Temp\\ipykernel_21408\\2799964396.py:4: DeprecationWarning: find_elements_by_xpath is deprecated. Please use find_elements(by=By.XPATH, value=xpath) instead\n",
      "  download_file= driver.find_elements_by_xpath('//*[@id=\"content\"]/div/div[2]/div[3]/ul/li[1]/span/a')\n"
     ]
    }
   ],
   "source": [
    "for url in url_list:\n",
    "    get_download(url)"
   ]
  },
  {
   "cell_type": "code",
   "execution_count": 18,
   "metadata": {},
   "outputs": [
    {
     "ename": "SyntaxError",
     "evalue": "(unicode error) 'unicodeescape' codec can't decode bytes in position 3-4: truncated \\UXXXXXXXX escape (2895758476.py, line 2)",
     "output_type": "error",
     "traceback": [
      "\u001b[1;36m  Input \u001b[1;32mIn [18]\u001b[1;36m\u001b[0m\n\u001b[1;33m    '''\u001b[0m\n\u001b[1;37m    ^\u001b[0m\n\u001b[1;31mSyntaxError\u001b[0m\u001b[1;31m:\u001b[0m (unicode error) 'unicodeescape' codec can't decode bytes in position 3-4: truncated \\UXXXXXXXX escape\n"
     ]
    }
   ],
   "source": [
    "#driver.find_elements_by_xpath('//*[@id=\"content\"]/div/div[2]/div[3]/ul/li[1]/span/a')\n",
    "'''\n",
    "C:\\Users\\user\\AppData\\Local\\Temp\\ipykernel_2180\\3063276279.py:1: DeprecationWarning: find_elements_by_xpath is deprecated. Please use find_elements(by=By.XPATH, value=xpath) instead\n",
    "  driver.find_elements_by_xpath('//*[@id=\"content\"]/div/div[2]/div[3]/ul/li[1]/span/a')\n",
    "[<selenium.webdriver.remote.webelement.WebElement (session=\"f90a83d682f3229e5269ef4a459160ac\", element=\"f10f78b1-0d11-417c-88ec-4c42ac001173\")>,\n",
    " <selenium.webdriver.remote.webelement.WebElement (session=\"f90a83d682f3229e5269ef4a459160ac\", element=\"7cd57ae8-4c54-4c9b-a5c8-3a6e250be967\")>]\n",
    "'''"
   ]
  },
  {
   "cell_type": "code",
   "execution_count": 19,
   "metadata": {},
   "outputs": [
    {
     "ename": "NameError",
     "evalue": "name 'driver' is not defined",
     "output_type": "error",
     "traceback": [
      "\u001b[1;31m---------------------------------------------------------------------------\u001b[0m",
      "\u001b[1;31mNameError\u001b[0m                                 Traceback (most recent call last)",
      "\u001b[1;32mc:\\Users\\user\\Test\\usingsSelenium.ipynb Cell 17'\u001b[0m in \u001b[0;36m<cell line: 1>\u001b[1;34m()\u001b[0m\n\u001b[1;32m----> <a href='vscode-notebook-cell:/c%3A/Users/user/Test/usingsSelenium.ipynb#ch0000016?line=0'>1</a>\u001b[0m driver\u001b[39m.\u001b[39mquit()\n\u001b[0;32m      <a href='vscode-notebook-cell:/c%3A/Users/user/Test/usingsSelenium.ipynb#ch0000016?line=1'>2</a>\u001b[0m \u001b[39mdel\u001b[39;00m driver\n",
      "\u001b[1;31mNameError\u001b[0m: name 'driver' is not defined"
     ]
    }
   ],
   "source": [
    "driver.quit()\n",
    "del driver"
   ]
  }
 ],
 "metadata": {
  "interpreter": {
   "hash": "6a926afa313b26ae1264fdcf81c726a97e69f6ba2ba780f6aa901948710f8d6e"
  },
  "kernelspec": {
   "display_name": "Python 3.8.10 64-bit",
   "language": "python",
   "name": "python3"
  },
  "language_info": {
   "codemirror_mode": {
    "name": "ipython",
    "version": 3
   },
   "file_extension": ".py",
   "mimetype": "text/x-python",
   "name": "python",
   "nbconvert_exporter": "python",
   "pygments_lexer": "ipython3",
   "version": "3.8.10"
  },
  "orig_nbformat": 4
 },
 "nbformat": 4,
 "nbformat_minor": 2
}
