{
 "cells": [
  {
   "cell_type": "code",
   "execution_count": 1,
   "metadata": {},
   "outputs": [],
   "source": [
    "import requests\n",
    "from bs4 import BeautifulSoup\n",
    "import re\n",
    "import pandas as pd"
   ]
  },
  {
   "cell_type": "code",
   "execution_count": 12,
   "metadata": {},
   "outputs": [],
   "source": [
    "searchKeyword='기념품' # 전체의 기준이 되는 부분\n",
    "gov='seoul'\n",
    "startDate='2016-01-01'\n",
    "endDate='2022-05-16'\n",
    "items_per_page='50'"
   ]
  },
  {
   "cell_type": "code",
   "execution_count": 13,
   "metadata": {},
   "outputs": [
    {
     "name": "stdout",
     "output_type": "stream",
     "text": [
      "https://opengov.seoul.go.kr/sanction/list?items_per_page=50&gov=seoul&searchKeyword=기념품&rangeDate=custom&startDate=2016-01-01&endDate=2022-05-16\n"
     ]
    }
   ],
   "source": [
    "url= f'https://opengov.seoul.go.kr/sanction/list?items_per_page={items_per_page}&gov={gov}&searchKeyword={searchKeyword}&rangeDate=custom&startDate={startDate}&endDate={endDate}'\n",
    "print(url)"
   ]
  },
  {
   "cell_type": "code",
   "execution_count": 14,
   "metadata": {},
   "outputs": [],
   "source": [
    "def get_count(url):\n",
    "    response=requests.get(url)\n",
    "    html= response.text\n",
    "    soup= BeautifulSoup(html, 'lxml')\n",
    "    count=soup.select('div[class=al-left]')[0].text\n",
    "    p= re.compile('\\d+,*\\d*')\n",
    "    page_count=(int(p.search(count).group().replace(',',''))//int(items_per_page))+1\n",
    "    return page_count"
   ]
  },
  {
   "cell_type": "code",
   "execution_count": 15,
   "metadata": {},
   "outputs": [
    {
     "data": {
      "text/plain": [
       "79"
      ]
     },
     "execution_count": 15,
     "metadata": {},
     "output_type": "execute_result"
    }
   ],
   "source": [
    "get_count(url)"
   ]
  },
  {
   "cell_type": "code",
   "execution_count": 16,
   "metadata": {},
   "outputs": [],
   "source": [
    "DFlist=[]\n",
    "for i in range(get_count(url)):\n",
    "    DFlist.append('DF'+str(i))"
   ]
  },
  {
   "cell_type": "code",
   "execution_count": 17,
   "metadata": {},
   "outputs": [
    {
     "data": {
      "text/plain": [
       "79"
      ]
     },
     "execution_count": 17,
     "metadata": {},
     "output_type": "execute_result"
    }
   ],
   "source": [
    "len(DFlist)"
   ]
  },
  {
   "cell_type": "code",
   "execution_count": 18,
   "metadata": {},
   "outputs": [],
   "source": [
    "def get_data(page_input):\n",
    "    response= requests.get(f'{url}&page={page_input}')\n",
    "    print(f'{url}&page={page_input}')\n",
    "    html = response.text\n",
    "    soup= BeautifulSoup(html, 'lxml')\n",
    "    title_list=[]\n",
    "    public_list=[]\n",
    "    govern_list=[]\n",
    "    URL_list=[]\n",
    "    dept_list=[]\n",
    "    date_list=[]\n",
    "    for tag in soup.select('div[class=title-area]'):\n",
    "        title_list.append(tag.find('a').text.replace('제목 :','').strip())\n",
    "    for tag in soup.select('p[class=title-category]'):\n",
    "        public_list.append(tag.findAll('span')[0].text)\n",
    "        govern_list.append(tag.findAll('span')[1].text)\n",
    "    for tag in soup.select('p[class=title-info]'):\n",
    "        date_list.append(tag.find('span', attrs={'class':'date'}).text.replace('등록일 :','').strip())\n",
    "    for tag in soup.select('p[class=title-info]'):\n",
    "        dept_list.append(tag.find('span', attrs={'class':'dept'}).text.replace('부서 :','').strip())\n",
    "    for tag in soup.select('div[class=title-area]'):\n",
    "        URL_list.append('https://opengov.seoul.go.kr'+tag.find('a')['href'])\n",
    "    data= {'title': title_list, 'URL':URL_list, 'date': date_list, 'dept': dept_list, 'IsPublic': public_list, 'gov':govern_list}\n",
    "    DFlist[page_input-1]= pd.DataFrame(data=data)\n",
    "    return DFlist[page_input-1]"
   ]
  },
  {
   "cell_type": "code",
   "execution_count": 19,
   "metadata": {},
   "outputs": [
    {
     "name": "stdout",
     "output_type": "stream",
     "text": [
      "https://opengov.seoul.go.kr/sanction/list?items_per_page=50&gov=seoul&searchKeyword=기념품&rangeDate=custom&startDate=2016-01-01&endDate=2022-05-16&page=1\n",
      "https://opengov.seoul.go.kr/sanction/list?items_per_page=50&gov=seoul&searchKeyword=기념품&rangeDate=custom&startDate=2016-01-01&endDate=2022-05-16&page=2\n",
      "https://opengov.seoul.go.kr/sanction/list?items_per_page=50&gov=seoul&searchKeyword=기념품&rangeDate=custom&startDate=2016-01-01&endDate=2022-05-16&page=3\n",
      "https://opengov.seoul.go.kr/sanction/list?items_per_page=50&gov=seoul&searchKeyword=기념품&rangeDate=custom&startDate=2016-01-01&endDate=2022-05-16&page=4\n",
      "https://opengov.seoul.go.kr/sanction/list?items_per_page=50&gov=seoul&searchKeyword=기념품&rangeDate=custom&startDate=2016-01-01&endDate=2022-05-16&page=5\n",
      "https://opengov.seoul.go.kr/sanction/list?items_per_page=50&gov=seoul&searchKeyword=기념품&rangeDate=custom&startDate=2016-01-01&endDate=2022-05-16&page=6\n",
      "https://opengov.seoul.go.kr/sanction/list?items_per_page=50&gov=seoul&searchKeyword=기념품&rangeDate=custom&startDate=2016-01-01&endDate=2022-05-16&page=7\n",
      "https://opengov.seoul.go.kr/sanction/list?items_per_page=50&gov=seoul&searchKeyword=기념품&rangeDate=custom&startDate=2016-01-01&endDate=2022-05-16&page=8\n",
      "https://opengov.seoul.go.kr/sanction/list?items_per_page=50&gov=seoul&searchKeyword=기념품&rangeDate=custom&startDate=2016-01-01&endDate=2022-05-16&page=9\n",
      "https://opengov.seoul.go.kr/sanction/list?items_per_page=50&gov=seoul&searchKeyword=기념품&rangeDate=custom&startDate=2016-01-01&endDate=2022-05-16&page=10\n",
      "https://opengov.seoul.go.kr/sanction/list?items_per_page=50&gov=seoul&searchKeyword=기념품&rangeDate=custom&startDate=2016-01-01&endDate=2022-05-16&page=11\n",
      "https://opengov.seoul.go.kr/sanction/list?items_per_page=50&gov=seoul&searchKeyword=기념품&rangeDate=custom&startDate=2016-01-01&endDate=2022-05-16&page=12\n",
      "https://opengov.seoul.go.kr/sanction/list?items_per_page=50&gov=seoul&searchKeyword=기념품&rangeDate=custom&startDate=2016-01-01&endDate=2022-05-16&page=13\n",
      "https://opengov.seoul.go.kr/sanction/list?items_per_page=50&gov=seoul&searchKeyword=기념품&rangeDate=custom&startDate=2016-01-01&endDate=2022-05-16&page=14\n",
      "https://opengov.seoul.go.kr/sanction/list?items_per_page=50&gov=seoul&searchKeyword=기념품&rangeDate=custom&startDate=2016-01-01&endDate=2022-05-16&page=15\n",
      "https://opengov.seoul.go.kr/sanction/list?items_per_page=50&gov=seoul&searchKeyword=기념품&rangeDate=custom&startDate=2016-01-01&endDate=2022-05-16&page=16\n",
      "https://opengov.seoul.go.kr/sanction/list?items_per_page=50&gov=seoul&searchKeyword=기념품&rangeDate=custom&startDate=2016-01-01&endDate=2022-05-16&page=17\n",
      "https://opengov.seoul.go.kr/sanction/list?items_per_page=50&gov=seoul&searchKeyword=기념품&rangeDate=custom&startDate=2016-01-01&endDate=2022-05-16&page=18\n",
      "https://opengov.seoul.go.kr/sanction/list?items_per_page=50&gov=seoul&searchKeyword=기념품&rangeDate=custom&startDate=2016-01-01&endDate=2022-05-16&page=19\n",
      "https://opengov.seoul.go.kr/sanction/list?items_per_page=50&gov=seoul&searchKeyword=기념품&rangeDate=custom&startDate=2016-01-01&endDate=2022-05-16&page=20\n",
      "https://opengov.seoul.go.kr/sanction/list?items_per_page=50&gov=seoul&searchKeyword=기념품&rangeDate=custom&startDate=2016-01-01&endDate=2022-05-16&page=21\n",
      "https://opengov.seoul.go.kr/sanction/list?items_per_page=50&gov=seoul&searchKeyword=기념품&rangeDate=custom&startDate=2016-01-01&endDate=2022-05-16&page=22\n",
      "https://opengov.seoul.go.kr/sanction/list?items_per_page=50&gov=seoul&searchKeyword=기념품&rangeDate=custom&startDate=2016-01-01&endDate=2022-05-16&page=23\n",
      "https://opengov.seoul.go.kr/sanction/list?items_per_page=50&gov=seoul&searchKeyword=기념품&rangeDate=custom&startDate=2016-01-01&endDate=2022-05-16&page=24\n",
      "https://opengov.seoul.go.kr/sanction/list?items_per_page=50&gov=seoul&searchKeyword=기념품&rangeDate=custom&startDate=2016-01-01&endDate=2022-05-16&page=25\n",
      "https://opengov.seoul.go.kr/sanction/list?items_per_page=50&gov=seoul&searchKeyword=기념품&rangeDate=custom&startDate=2016-01-01&endDate=2022-05-16&page=26\n",
      "https://opengov.seoul.go.kr/sanction/list?items_per_page=50&gov=seoul&searchKeyword=기념품&rangeDate=custom&startDate=2016-01-01&endDate=2022-05-16&page=27\n",
      "https://opengov.seoul.go.kr/sanction/list?items_per_page=50&gov=seoul&searchKeyword=기념품&rangeDate=custom&startDate=2016-01-01&endDate=2022-05-16&page=28\n",
      "https://opengov.seoul.go.kr/sanction/list?items_per_page=50&gov=seoul&searchKeyword=기념품&rangeDate=custom&startDate=2016-01-01&endDate=2022-05-16&page=29\n",
      "https://opengov.seoul.go.kr/sanction/list?items_per_page=50&gov=seoul&searchKeyword=기념품&rangeDate=custom&startDate=2016-01-01&endDate=2022-05-16&page=30\n",
      "https://opengov.seoul.go.kr/sanction/list?items_per_page=50&gov=seoul&searchKeyword=기념품&rangeDate=custom&startDate=2016-01-01&endDate=2022-05-16&page=31\n",
      "https://opengov.seoul.go.kr/sanction/list?items_per_page=50&gov=seoul&searchKeyword=기념품&rangeDate=custom&startDate=2016-01-01&endDate=2022-05-16&page=32\n",
      "https://opengov.seoul.go.kr/sanction/list?items_per_page=50&gov=seoul&searchKeyword=기념품&rangeDate=custom&startDate=2016-01-01&endDate=2022-05-16&page=33\n",
      "https://opengov.seoul.go.kr/sanction/list?items_per_page=50&gov=seoul&searchKeyword=기념품&rangeDate=custom&startDate=2016-01-01&endDate=2022-05-16&page=34\n",
      "https://opengov.seoul.go.kr/sanction/list?items_per_page=50&gov=seoul&searchKeyword=기념품&rangeDate=custom&startDate=2016-01-01&endDate=2022-05-16&page=35\n",
      "https://opengov.seoul.go.kr/sanction/list?items_per_page=50&gov=seoul&searchKeyword=기념품&rangeDate=custom&startDate=2016-01-01&endDate=2022-05-16&page=36\n",
      "https://opengov.seoul.go.kr/sanction/list?items_per_page=50&gov=seoul&searchKeyword=기념품&rangeDate=custom&startDate=2016-01-01&endDate=2022-05-16&page=37\n",
      "https://opengov.seoul.go.kr/sanction/list?items_per_page=50&gov=seoul&searchKeyword=기념품&rangeDate=custom&startDate=2016-01-01&endDate=2022-05-16&page=38\n",
      "https://opengov.seoul.go.kr/sanction/list?items_per_page=50&gov=seoul&searchKeyword=기념품&rangeDate=custom&startDate=2016-01-01&endDate=2022-05-16&page=39\n",
      "https://opengov.seoul.go.kr/sanction/list?items_per_page=50&gov=seoul&searchKeyword=기념품&rangeDate=custom&startDate=2016-01-01&endDate=2022-05-16&page=40\n",
      "https://opengov.seoul.go.kr/sanction/list?items_per_page=50&gov=seoul&searchKeyword=기념품&rangeDate=custom&startDate=2016-01-01&endDate=2022-05-16&page=41\n",
      "https://opengov.seoul.go.kr/sanction/list?items_per_page=50&gov=seoul&searchKeyword=기념품&rangeDate=custom&startDate=2016-01-01&endDate=2022-05-16&page=42\n",
      "https://opengov.seoul.go.kr/sanction/list?items_per_page=50&gov=seoul&searchKeyword=기념품&rangeDate=custom&startDate=2016-01-01&endDate=2022-05-16&page=43\n",
      "https://opengov.seoul.go.kr/sanction/list?items_per_page=50&gov=seoul&searchKeyword=기념품&rangeDate=custom&startDate=2016-01-01&endDate=2022-05-16&page=44\n",
      "https://opengov.seoul.go.kr/sanction/list?items_per_page=50&gov=seoul&searchKeyword=기념품&rangeDate=custom&startDate=2016-01-01&endDate=2022-05-16&page=45\n",
      "https://opengov.seoul.go.kr/sanction/list?items_per_page=50&gov=seoul&searchKeyword=기념품&rangeDate=custom&startDate=2016-01-01&endDate=2022-05-16&page=46\n",
      "https://opengov.seoul.go.kr/sanction/list?items_per_page=50&gov=seoul&searchKeyword=기념품&rangeDate=custom&startDate=2016-01-01&endDate=2022-05-16&page=47\n",
      "https://opengov.seoul.go.kr/sanction/list?items_per_page=50&gov=seoul&searchKeyword=기념품&rangeDate=custom&startDate=2016-01-01&endDate=2022-05-16&page=48\n",
      "https://opengov.seoul.go.kr/sanction/list?items_per_page=50&gov=seoul&searchKeyword=기념품&rangeDate=custom&startDate=2016-01-01&endDate=2022-05-16&page=49\n",
      "https://opengov.seoul.go.kr/sanction/list?items_per_page=50&gov=seoul&searchKeyword=기념품&rangeDate=custom&startDate=2016-01-01&endDate=2022-05-16&page=50\n",
      "https://opengov.seoul.go.kr/sanction/list?items_per_page=50&gov=seoul&searchKeyword=기념품&rangeDate=custom&startDate=2016-01-01&endDate=2022-05-16&page=51\n",
      "https://opengov.seoul.go.kr/sanction/list?items_per_page=50&gov=seoul&searchKeyword=기념품&rangeDate=custom&startDate=2016-01-01&endDate=2022-05-16&page=52\n",
      "https://opengov.seoul.go.kr/sanction/list?items_per_page=50&gov=seoul&searchKeyword=기념품&rangeDate=custom&startDate=2016-01-01&endDate=2022-05-16&page=53\n",
      "https://opengov.seoul.go.kr/sanction/list?items_per_page=50&gov=seoul&searchKeyword=기념품&rangeDate=custom&startDate=2016-01-01&endDate=2022-05-16&page=54\n",
      "https://opengov.seoul.go.kr/sanction/list?items_per_page=50&gov=seoul&searchKeyword=기념품&rangeDate=custom&startDate=2016-01-01&endDate=2022-05-16&page=55\n",
      "https://opengov.seoul.go.kr/sanction/list?items_per_page=50&gov=seoul&searchKeyword=기념품&rangeDate=custom&startDate=2016-01-01&endDate=2022-05-16&page=56\n",
      "https://opengov.seoul.go.kr/sanction/list?items_per_page=50&gov=seoul&searchKeyword=기념품&rangeDate=custom&startDate=2016-01-01&endDate=2022-05-16&page=57\n",
      "https://opengov.seoul.go.kr/sanction/list?items_per_page=50&gov=seoul&searchKeyword=기념품&rangeDate=custom&startDate=2016-01-01&endDate=2022-05-16&page=58\n",
      "https://opengov.seoul.go.kr/sanction/list?items_per_page=50&gov=seoul&searchKeyword=기념품&rangeDate=custom&startDate=2016-01-01&endDate=2022-05-16&page=59\n",
      "https://opengov.seoul.go.kr/sanction/list?items_per_page=50&gov=seoul&searchKeyword=기념품&rangeDate=custom&startDate=2016-01-01&endDate=2022-05-16&page=60\n",
      "https://opengov.seoul.go.kr/sanction/list?items_per_page=50&gov=seoul&searchKeyword=기념품&rangeDate=custom&startDate=2016-01-01&endDate=2022-05-16&page=61\n",
      "https://opengov.seoul.go.kr/sanction/list?items_per_page=50&gov=seoul&searchKeyword=기념품&rangeDate=custom&startDate=2016-01-01&endDate=2022-05-16&page=62\n",
      "https://opengov.seoul.go.kr/sanction/list?items_per_page=50&gov=seoul&searchKeyword=기념품&rangeDate=custom&startDate=2016-01-01&endDate=2022-05-16&page=63\n",
      "https://opengov.seoul.go.kr/sanction/list?items_per_page=50&gov=seoul&searchKeyword=기념품&rangeDate=custom&startDate=2016-01-01&endDate=2022-05-16&page=64\n",
      "https://opengov.seoul.go.kr/sanction/list?items_per_page=50&gov=seoul&searchKeyword=기념품&rangeDate=custom&startDate=2016-01-01&endDate=2022-05-16&page=65\n",
      "https://opengov.seoul.go.kr/sanction/list?items_per_page=50&gov=seoul&searchKeyword=기념품&rangeDate=custom&startDate=2016-01-01&endDate=2022-05-16&page=66\n",
      "https://opengov.seoul.go.kr/sanction/list?items_per_page=50&gov=seoul&searchKeyword=기념품&rangeDate=custom&startDate=2016-01-01&endDate=2022-05-16&page=67\n",
      "https://opengov.seoul.go.kr/sanction/list?items_per_page=50&gov=seoul&searchKeyword=기념품&rangeDate=custom&startDate=2016-01-01&endDate=2022-05-16&page=68\n",
      "https://opengov.seoul.go.kr/sanction/list?items_per_page=50&gov=seoul&searchKeyword=기념품&rangeDate=custom&startDate=2016-01-01&endDate=2022-05-16&page=69\n",
      "https://opengov.seoul.go.kr/sanction/list?items_per_page=50&gov=seoul&searchKeyword=기념품&rangeDate=custom&startDate=2016-01-01&endDate=2022-05-16&page=70\n",
      "https://opengov.seoul.go.kr/sanction/list?items_per_page=50&gov=seoul&searchKeyword=기념품&rangeDate=custom&startDate=2016-01-01&endDate=2022-05-16&page=71\n",
      "https://opengov.seoul.go.kr/sanction/list?items_per_page=50&gov=seoul&searchKeyword=기념품&rangeDate=custom&startDate=2016-01-01&endDate=2022-05-16&page=72\n",
      "https://opengov.seoul.go.kr/sanction/list?items_per_page=50&gov=seoul&searchKeyword=기념품&rangeDate=custom&startDate=2016-01-01&endDate=2022-05-16&page=73\n",
      "https://opengov.seoul.go.kr/sanction/list?items_per_page=50&gov=seoul&searchKeyword=기념품&rangeDate=custom&startDate=2016-01-01&endDate=2022-05-16&page=74\n",
      "https://opengov.seoul.go.kr/sanction/list?items_per_page=50&gov=seoul&searchKeyword=기념품&rangeDate=custom&startDate=2016-01-01&endDate=2022-05-16&page=75\n",
      "https://opengov.seoul.go.kr/sanction/list?items_per_page=50&gov=seoul&searchKeyword=기념품&rangeDate=custom&startDate=2016-01-01&endDate=2022-05-16&page=76\n",
      "https://opengov.seoul.go.kr/sanction/list?items_per_page=50&gov=seoul&searchKeyword=기념품&rangeDate=custom&startDate=2016-01-01&endDate=2022-05-16&page=77\n",
      "https://opengov.seoul.go.kr/sanction/list?items_per_page=50&gov=seoul&searchKeyword=기념품&rangeDate=custom&startDate=2016-01-01&endDate=2022-05-16&page=78\n",
      "https://opengov.seoul.go.kr/sanction/list?items_per_page=50&gov=seoul&searchKeyword=기념품&rangeDate=custom&startDate=2016-01-01&endDate=2022-05-16&page=79\n"
     ]
    }
   ],
   "source": [
    "for i in range(1,get_count(url)+1):\n",
    "    get_data(i)"
   ]
  },
  {
   "cell_type": "code",
   "execution_count": 20,
   "metadata": {},
   "outputs": [],
   "source": [
    "total_DF= pd.concat([i for i in DFlist], ignore_index=True)"
   ]
  },
  {
   "cell_type": "code",
   "execution_count": 21,
   "metadata": {},
   "outputs": [
    {
     "data": {
      "text/plain": [
       "79"
      ]
     },
     "execution_count": 21,
     "metadata": {},
     "output_type": "execute_result"
    }
   ],
   "source": [
    "len(DFlist)"
   ]
  },
  {
   "cell_type": "code",
   "execution_count": 22,
   "metadata": {},
   "outputs": [
    {
     "data": {
      "text/html": [
       "<div>\n",
       "<style scoped>\n",
       "    .dataframe tbody tr th:only-of-type {\n",
       "        vertical-align: middle;\n",
       "    }\n",
       "\n",
       "    .dataframe tbody tr th {\n",
       "        vertical-align: top;\n",
       "    }\n",
       "\n",
       "    .dataframe thead th {\n",
       "        text-align: right;\n",
       "    }\n",
       "</style>\n",
       "<table border=\"1\" class=\"dataframe\">\n",
       "  <thead>\n",
       "    <tr style=\"text-align: right;\">\n",
       "      <th></th>\n",
       "      <th>title</th>\n",
       "      <th>URL</th>\n",
       "      <th>date</th>\n",
       "      <th>dept</th>\n",
       "      <th>IsPublic</th>\n",
       "      <th>gov</th>\n",
       "    </tr>\n",
       "  </thead>\n",
       "  <tbody>\n",
       "    <tr>\n",
       "      <th>0</th>\n",
       "      <td>기념품 배부 결과보고(UV살균 소독기)</td>\n",
       "      <td>https://opengov.seoul.go.kr/sanction/25976228</td>\n",
       "      <td>2022-05-16</td>\n",
       "      <td>송파소방서 소방행정과</td>\n",
       "      <td>부분공개</td>\n",
       "      <td>서울시</td>\n",
       "    </tr>\n",
       "    <tr>\n",
       "      <th>1</th>\n",
       "      <td>국제 교류 협력 증진을 위한 전통기념품 구매 비용 지급</td>\n",
       "      <td>https://opengov.seoul.go.kr/sanction/25977766</td>\n",
       "      <td>2022-05-16</td>\n",
       "      <td>의회사무처 의정담당관</td>\n",
       "      <td>공개</td>\n",
       "      <td>서울시</td>\n",
       "    </tr>\n",
       "    <tr>\n",
       "      <th>2</th>\n",
       "      <td>국제 교류 협력 증진을 위한 전통기념품 구매 비용 지급</td>\n",
       "      <td>https://opengov.seoul.go.kr/sanction/25975944</td>\n",
       "      <td>2022-05-16</td>\n",
       "      <td>의회사무처 의정담당관</td>\n",
       "      <td>공개</td>\n",
       "      <td>서울시</td>\n",
       "    </tr>\n",
       "    <tr>\n",
       "      <th>3</th>\n",
       "      <td>관악소방서 내방객 답례용 기념품 구매 계획 보고(소화기)</td>\n",
       "      <td>https://opengov.seoul.go.kr/sanction/25970773</td>\n",
       "      <td>2022-05-13</td>\n",
       "      <td>관악소방서 소방행정과</td>\n",
       "      <td>부분공개</td>\n",
       "      <td>서울시</td>\n",
       "    </tr>\n",
       "    <tr>\n",
       "      <th>4</th>\n",
       "      <td>산하공원 프로그램 기념품 구매</td>\n",
       "      <td>https://opengov.seoul.go.kr/sanction/25952534</td>\n",
       "      <td>2022-05-11</td>\n",
       "      <td>동부공원녹지사업소 공원여가과</td>\n",
       "      <td>부분공개</td>\n",
       "      <td>서울시</td>\n",
       "    </tr>\n",
       "    <tr>\n",
       "      <th>...</th>\n",
       "      <td>...</td>\n",
       "      <td>...</td>\n",
       "      <td>...</td>\n",
       "      <td>...</td>\n",
       "      <td>...</td>\n",
       "      <td>...</td>\n",
       "    </tr>\n",
       "    <tr>\n",
       "      <th>3915</th>\n",
       "      <td>서울 상징 관광기념품 전시회 개최 용역비 지급</td>\n",
       "      <td>https://opengov.seoul.go.kr/sanction/7205721</td>\n",
       "      <td>2016-01-08</td>\n",
       "      <td>관광체육국 관광사업과</td>\n",
       "      <td>부분공개</td>\n",
       "      <td>서울시</td>\n",
       "    </tr>\n",
       "    <tr>\n",
       "      <th>3916</th>\n",
       "      <td>2015년 하반기 성과평가 최우수상 수상 기념품 등 배정 계획</td>\n",
       "      <td>https://opengov.seoul.go.kr/sanction/7207895</td>\n",
       "      <td>2016-01-08</td>\n",
       "      <td>관악소방서 소방행정과</td>\n",
       "      <td>공개</td>\n",
       "      <td>서울시</td>\n",
       "    </tr>\n",
       "    <tr>\n",
       "      <th>3917</th>\n",
       "      <td>‘15 서울 상징 관광기념품 공모전 수상작 전시회  개최결과  보고</td>\n",
       "      <td>https://opengov.seoul.go.kr/sanction/7166162</td>\n",
       "      <td>2016-01-05</td>\n",
       "      <td>관광체육국 관광사업과</td>\n",
       "      <td>공개</td>\n",
       "      <td>서울시</td>\n",
       "    </tr>\n",
       "    <tr>\n",
       "      <th>3918</th>\n",
       "      <td>서울 상징 관광기념품 지원 요청</td>\n",
       "      <td>https://opengov.seoul.go.kr/sanction/7157589</td>\n",
       "      <td>2016-01-04</td>\n",
       "      <td>기획조정실 국제교류담당관</td>\n",
       "      <td>공개</td>\n",
       "      <td>서울시</td>\n",
       "    </tr>\n",
       "    <tr>\n",
       "      <th>3919</th>\n",
       "      <td>물품 대금 지급-한강공원 방문 기념품 제작 구매</td>\n",
       "      <td>https://opengov.seoul.go.kr/sanction/7153653</td>\n",
       "      <td>2016-01-04</td>\n",
       "      <td>한강사업본부 총무부 총무과</td>\n",
       "      <td>부분공개</td>\n",
       "      <td>서울시</td>\n",
       "    </tr>\n",
       "  </tbody>\n",
       "</table>\n",
       "<p>3920 rows × 6 columns</p>\n",
       "</div>"
      ],
      "text/plain": [
       "                                      title  \\\n",
       "0                     기념품 배부 결과보고(UV살균 소독기)   \n",
       "1            국제 교류 협력 증진을 위한 전통기념품 구매 비용 지급   \n",
       "2            국제 교류 협력 증진을 위한 전통기념품 구매 비용 지급   \n",
       "3           관악소방서 내방객 답례용 기념품 구매 계획 보고(소화기)   \n",
       "4                          산하공원 프로그램 기념품 구매   \n",
       "...                                     ...   \n",
       "3915              서울 상징 관광기념품 전시회 개최 용역비 지급   \n",
       "3916     2015년 하반기 성과평가 최우수상 수상 기념품 등 배정 계획   \n",
       "3917  ‘15 서울 상징 관광기념품 공모전 수상작 전시회  개최결과  보고   \n",
       "3918                      서울 상징 관광기념품 지원 요청   \n",
       "3919             물품 대금 지급-한강공원 방문 기념품 제작 구매   \n",
       "\n",
       "                                                URL        date  \\\n",
       "0     https://opengov.seoul.go.kr/sanction/25976228  2022-05-16   \n",
       "1     https://opengov.seoul.go.kr/sanction/25977766  2022-05-16   \n",
       "2     https://opengov.seoul.go.kr/sanction/25975944  2022-05-16   \n",
       "3     https://opengov.seoul.go.kr/sanction/25970773  2022-05-13   \n",
       "4     https://opengov.seoul.go.kr/sanction/25952534  2022-05-11   \n",
       "...                                             ...         ...   \n",
       "3915   https://opengov.seoul.go.kr/sanction/7205721  2016-01-08   \n",
       "3916   https://opengov.seoul.go.kr/sanction/7207895  2016-01-08   \n",
       "3917   https://opengov.seoul.go.kr/sanction/7166162  2016-01-05   \n",
       "3918   https://opengov.seoul.go.kr/sanction/7157589  2016-01-04   \n",
       "3919   https://opengov.seoul.go.kr/sanction/7153653  2016-01-04   \n",
       "\n",
       "                 dept IsPublic  gov  \n",
       "0         송파소방서 소방행정과     부분공개  서울시  \n",
       "1         의회사무처 의정담당관       공개  서울시  \n",
       "2         의회사무처 의정담당관       공개  서울시  \n",
       "3         관악소방서 소방행정과     부분공개  서울시  \n",
       "4     동부공원녹지사업소 공원여가과     부분공개  서울시  \n",
       "...               ...      ...  ...  \n",
       "3915      관광체육국 관광사업과     부분공개  서울시  \n",
       "3916      관악소방서 소방행정과       공개  서울시  \n",
       "3917      관광체육국 관광사업과       공개  서울시  \n",
       "3918    기획조정실 국제교류담당관       공개  서울시  \n",
       "3919   한강사업본부 총무부 총무과     부분공개  서울시  \n",
       "\n",
       "[3920 rows x 6 columns]"
      ]
     },
     "execution_count": 22,
     "metadata": {},
     "output_type": "execute_result"
    }
   ],
   "source": [
    "total_DF"
   ]
  },
  {
   "cell_type": "code",
   "execution_count": 23,
   "metadata": {},
   "outputs": [],
   "source": [
    "fname= f'{searchKeyword}_{gov}_{startDate}_{endDate}.xlsx'\n",
    "total_DF.to_excel(fname, index=False)"
   ]
  }
 ],
 "metadata": {
  "interpreter": {
   "hash": "6a926afa313b26ae1264fdcf81c726a97e69f6ba2ba780f6aa901948710f8d6e"
  },
  "kernelspec": {
   "display_name": "Python 3.8.10 64-bit",
   "language": "python",
   "name": "python3"
  },
  "language_info": {
   "codemirror_mode": {
    "name": "ipython",
    "version": 3
   },
   "file_extension": ".py",
   "mimetype": "text/x-python",
   "name": "python",
   "nbconvert_exporter": "python",
   "pygments_lexer": "ipython3",
   "version": "3.8.10"
  },
  "orig_nbformat": 4
 },
 "nbformat": 4,
 "nbformat_minor": 2
}
