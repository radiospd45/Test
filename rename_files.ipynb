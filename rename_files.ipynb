{
 "cells": [
  {
   "cell_type": "code",
   "execution_count": 1,
   "metadata": {},
   "outputs": [
    {
     "name": "stdout",
     "output_type": "stream",
     "text": [
      "['결재문서본문.hwp', '결재문서본문 (1).hwp', '결재문서본문 (2).hwp', '결재문서본문 (3).hwp', '결재문서본문 (4).hwp', '결재문서본문 (5).hwp', '결재문서본문 (6).hwp', '결재문서본문 (7).hwp', '결재문서본문 (8).hwp', '결재문서본문 (9).hwp', '결재문서본문 (10).hwp', '결재문서본문 (11).hwp', '결재문서본문 (12).hwp', '결재문서본문 (13).hwp', '결재문서본문 (14).hwp', '결재문서본문 (15).hwp', '결재문서본문 (16).hwp', '결재문서본문 (17).hwp', '결재문서본문 (18).hwp', '결재문서본문 (19).hwp', '결재문서본문 (20).hwp', '결재문서본문 (21).hwp', '결재문서본문 (22).hwp', '결재문서본문 (23).hwp', '결재문서본문 (24).hwp', '결재문서본문 (25).hwp', '결재문서본문 (26).hwp', '결재문서본문 (27).hwp', '결재문서본문 (28).hwp', '결재문서본문 (29).hwp', '결재문서본문 (30).hwp', '결재문서본문 (31).hwp', '결재문서본문 (32).hwp', '결재문서본문 (33).hwp', '결재문서본문 (34).hwp', '결재문서본문 (35).hwp', '결재문서본문 (36).hwp', '결재문서본문 (37).hwp', '결재문서본문 (38).hwp', '결재문서본문 (39).hwp', '결재문서본문 (40).hwp', '결재문서본문 (41).hwp', '결재문서본문 (42).hwp', '결재문서본문 (43).hwp', '결재문서본문 (44).hwp', '결재문서본문 (45).hwp', '결재문서본문 (46).hwp', '결재문서본문 (47).hwp', '결재문서본문 (48).hwp', '결재문서본문 (49).hwp', '결재문서본문 (50).hwp', '결재문서본문 (51).hwp', '결재문서본문 (52).hwp', '결재문서본문 (53).hwp', '결재문서본문 (54).hwp', '결재문서본문 (55).hwp', '결재문서본문 (56).hwp', '결재문서본문 (57).hwp', '결재문서본문 (58).hwp', '결재문서본문 (59).hwp', '결재문서본문 (60).hwp', '결재문서본문 (61).hwp', '결재문서본문 (62).hwp', '결재문서본문 (63).hwp', '결재문서본문 (64).hwp', '결재문서본문 (65).hwp', '결재문서본문 (66).hwp', '결재문서본문 (67).hwp', '결재문서본문 (68).hwp', '결재문서본문 (69).hwp', '결재문서본문 (70).hwp', '결재문서본문 (71).hwp', '결재문서본문 (72).hwp', '결재문서본문 (73).hwp', '결재문서본문 (74).hwp', '결재문서본문 (75).hwp', '결재문서본문 (76).hwp', '결재문서본문 (77).hwp', '결재문서본문 (78).hwp', '결재문서본문 (79).hwp', '결재문서본문 (80).hwp', '결재문서본문 (81).hwp', '결재문서본문 (82).hwp', '결재문서본문 (83).hwp', '결재문서본문 (84).hwp', '결재문서본문 (85).hwp', '결재문서본문 (86).hwp', '결재문서본문 (87).hwp', '결재문서본문 (88).hwp', '결재문서본문 (89).hwp', '결재문서본문 (90).hwp', '결재문서본문 (91).hwp', '결재문서본문 (92).hwp', '결재문서본문 (93).hwp', '결재문서본문 (94).hwp', '결재문서본문 (95).hwp', '결재문서본문 (96).hwp', '결재문서본문 (97).hwp', '결재문서본문 (98).hwp', '결재문서본문 (99).hwp', '결재문서본문 (100).hwp', '결재문서본문 - 2022-05-19T130606.641.hwp', '결재문서본문 - 2022-05-19T130609.173.hwp', '결재문서본문 - 2022-05-19T130612.724.hwp', '결재문서본문 - 2022-05-19T130615.274.hwp', '결재문서본문 - 2022-05-19T130618.245.hwp', '결재문서본문 - 2022-05-19T130620.772.hwp']\n"
     ]
    }
   ],
   "source": [
    "import glob\n",
    "import os\n",
    "os.chdir(r\"C:\\Users\\user\\Downloads\\selenium_download\")\n",
    "files = glob.glob(\"*.hwp\") #한글파일만\n",
    "files.sort(key=os.path.getmtime)\n",
    "print(files)"
   ]
  },
  {
   "cell_type": "code",
   "execution_count": 2,
   "metadata": {},
   "outputs": [
    {
     "data": {
      "text/plain": [
       "107"
      ]
     },
     "execution_count": 2,
     "metadata": {},
     "output_type": "execute_result"
    }
   ],
   "source": [
    "len(files)"
   ]
  },
  {
   "cell_type": "code",
   "execution_count": 3,
   "metadata": {},
   "outputs": [],
   "source": [
    "url_list=sorted(['https://opengov.seoul.go.kr/sanction/19389749',\n",
    " 'https://opengov.seoul.go.kr/sanction/16589793',\n",
    " 'https://opengov.seoul.go.kr/sanction/12415226',\n",
    " 'https://opengov.seoul.go.kr/sanction/16009002',\n",
    " 'https://opengov.seoul.go.kr/sanction/15176196',\n",
    " 'https://opengov.seoul.go.kr/sanction/9806595',\n",
    " 'https://opengov.seoul.go.kr/sanction/9312789',\n",
    " 'https://opengov.seoul.go.kr/sanction/9060039',\n",
    " 'https://opengov.seoul.go.kr/sanction/8920898',\n",
    " 'https://opengov.seoul.go.kr/sanction/8921724',\n",
    " 'https://opengov.seoul.go.kr/sanction/8838930',\n",
    " 'https://opengov.seoul.go.kr/sanction/21813389',\n",
    " 'https://opengov.seoul.go.kr/sanction/21578999',\n",
    " 'https://opengov.seoul.go.kr/sanction/21001001',\n",
    " 'https://opengov.seoul.go.kr/sanction/20805339',\n",
    " 'https://opengov.seoul.go.kr/sanction/20623911',\n",
    " 'https://opengov.seoul.go.kr/sanction/16890268',\n",
    " 'https://opengov.seoul.go.kr/sanction/24176160',\n",
    " 'https://opengov.seoul.go.kr/sanction/24135569',\n",
    " 'https://opengov.seoul.go.kr/sanction/24098584',\n",
    " 'https://opengov.seoul.go.kr/sanction/24088761',\n",
    " 'https://opengov.seoul.go.kr/sanction/19164002',\n",
    " 'https://opengov.seoul.go.kr/sanction/23305866',\n",
    " 'https://opengov.seoul.go.kr/sanction/12436328',\n",
    " 'https://opengov.seoul.go.kr/sanction/19262801',\n",
    " 'https://opengov.seoul.go.kr/sanction/16832876',\n",
    " 'https://opengov.seoul.go.kr/sanction/13861898',\n",
    " 'https://opengov.seoul.go.kr/sanction/13606150',\n",
    " 'https://opengov.seoul.go.kr/sanction/19405814',\n",
    " 'https://opengov.seoul.go.kr/sanction/16843410',\n",
    " 'https://opengov.seoul.go.kr/sanction/19129611',\n",
    " 'https://opengov.seoul.go.kr/sanction/10208640',\n",
    " 'https://opengov.seoul.go.kr/sanction/10393646',\n",
    " 'https://opengov.seoul.go.kr/sanction/12194872',\n",
    " 'https://opengov.seoul.go.kr/sanction/21451013',\n",
    " 'https://opengov.seoul.go.kr/sanction/23888812',\n",
    " 'https://opengov.seoul.go.kr/sanction/25490696',\n",
    " 'https://opengov.seoul.go.kr/sanction/20007089',\n",
    " 'https://opengov.seoul.go.kr/sanction/16962449',\n",
    " 'https://opengov.seoul.go.kr/sanction/14201165',\n",
    " 'https://opengov.seoul.go.kr/sanction/12823541',\n",
    " 'https://opengov.seoul.go.kr/sanction/9588260',\n",
    " 'https://opengov.seoul.go.kr/sanction/15631550',\n",
    " 'https://opengov.seoul.go.kr/sanction/19268703',\n",
    " 'https://opengov.seoul.go.kr/sanction/22814682',\n",
    " 'https://opengov.seoul.go.kr/sanction/23809456',\n",
    " 'https://opengov.seoul.go.kr/sanction/21469841',\n",
    " 'https://opengov.seoul.go.kr/sanction/21925083',\n",
    " 'https://opengov.seoul.go.kr/sanction/19356456',\n",
    " 'https://opengov.seoul.go.kr/sanction/21829652',\n",
    " 'https://opengov.seoul.go.kr/sanction/23388667',\n",
    " 'https://opengov.seoul.go.kr/sanction/23408346',\n",
    " 'https://opengov.seoul.go.kr/sanction/21524450',\n",
    " 'https://opengov.seoul.go.kr/sanction/18731900',\n",
    " 'https://opengov.seoul.go.kr/sanction/18021595',\n",
    " 'https://opengov.seoul.go.kr/sanction/17147066',\n",
    " 'https://opengov.seoul.go.kr/sanction/13828835',\n",
    " 'https://opengov.seoul.go.kr/sanction/11254678',\n",
    " 'https://opengov.seoul.go.kr/sanction/8462084',\n",
    " 'https://opengov.seoul.go.kr/sanction/7908157',\n",
    " 'https://opengov.seoul.go.kr/sanction/20884610',\n",
    " 'https://opengov.seoul.go.kr/sanction/19230555',\n",
    " 'https://opengov.seoul.go.kr/sanction/20415870',\n",
    " 'https://opengov.seoul.go.kr/sanction/15317258',\n",
    " 'https://opengov.seoul.go.kr/sanction/17082819',\n",
    " 'https://opengov.seoul.go.kr/sanction/14631113',\n",
    " 'https://opengov.seoul.go.kr/sanction/9937407',\n",
    " 'https://opengov.seoul.go.kr/sanction/13282451',\n",
    " 'https://opengov.seoul.go.kr/sanction/14191984',\n",
    " 'https://opengov.seoul.go.kr/sanction/9635665',\n",
    " 'https://opengov.seoul.go.kr/sanction/21782846',\n",
    " 'https://opengov.seoul.go.kr/sanction/24966516',\n",
    " 'https://opengov.seoul.go.kr/sanction/21872055',\n",
    " 'https://opengov.seoul.go.kr/sanction/20004263',\n",
    " 'https://opengov.seoul.go.kr/sanction/17525854',\n",
    " 'https://opengov.seoul.go.kr/sanction/15867479',\n",
    " 'https://opengov.seoul.go.kr/sanction/14454785',\n",
    " 'https://opengov.seoul.go.kr/sanction/8683607',\n",
    " 'https://opengov.seoul.go.kr/sanction/14266407',\n",
    " 'https://opengov.seoul.go.kr/sanction/23830877',\n",
    " 'https://opengov.seoul.go.kr/sanction/21776091',\n",
    " 'https://opengov.seoul.go.kr/sanction/16551682',\n",
    " 'https://opengov.seoul.go.kr/sanction/13672755',\n",
    " 'https://opengov.seoul.go.kr/sanction/18074764',\n",
    " 'https://opengov.seoul.go.kr/sanction/13496304',\n",
    " 'https://opengov.seoul.go.kr/sanction/16850662',\n",
    " 'https://opengov.seoul.go.kr/sanction/17094460',\n",
    " 'https://opengov.seoul.go.kr/sanction/24825752',\n",
    " 'https://opengov.seoul.go.kr/sanction/24937510',\n",
    " 'https://opengov.seoul.go.kr/sanction/21822759',\n",
    " 'https://opengov.seoul.go.kr/sanction/19210384',\n",
    " 'https://opengov.seoul.go.kr/sanction/16009528',\n",
    " 'https://opengov.seoul.go.kr/sanction/25383471',\n",
    " 'https://opengov.seoul.go.kr/sanction/24998274',\n",
    " 'https://opengov.seoul.go.kr/sanction/23902972',\n",
    " 'https://opengov.seoul.go.kr/sanction/16186433',\n",
    " 'https://opengov.seoul.go.kr/sanction/25044491',\n",
    " 'https://opengov.seoul.go.kr/sanction/24973362',\n",
    " 'https://opengov.seoul.go.kr/sanction/21897691',\n",
    " 'https://opengov.seoul.go.kr/sanction/21762665',\n",
    " 'https://opengov.seoul.go.kr/sanction/11839179',\n",
    " 'https://opengov.seoul.go.kr/sanction/14859976',\n",
    " 'https://opengov.seoul.go.kr/sanction/13918562',\n",
    " 'https://opengov.seoul.go.kr/sanction/18772126',\n",
    " 'https://opengov.seoul.go.kr/sanction/11216182',\n",
    " 'https://opengov.seoul.go.kr/sanction/8781721',\n",
    " 'https://opengov.seoul.go.kr/sanction/22992995'])"
   ]
  },
  {
   "cell_type": "code",
   "execution_count": 4,
   "metadata": {},
   "outputs": [
    {
     "data": {
      "text/plain": [
       "107"
      ]
     },
     "execution_count": 4,
     "metadata": {},
     "output_type": "execute_result"
    }
   ],
   "source": [
    "len(url_list)"
   ]
  },
  {
   "cell_type": "code",
   "execution_count": 5,
   "metadata": {},
   "outputs": [
    {
     "data": {
      "text/html": [
       "<div>\n",
       "<style scoped>\n",
       "    .dataframe tbody tr th:only-of-type {\n",
       "        vertical-align: middle;\n",
       "    }\n",
       "\n",
       "    .dataframe tbody tr th {\n",
       "        vertical-align: top;\n",
       "    }\n",
       "\n",
       "    .dataframe thead th {\n",
       "        text-align: right;\n",
       "    }\n",
       "</style>\n",
       "<table border=\"1\" class=\"dataframe\">\n",
       "  <thead>\n",
       "    <tr style=\"text-align: right;\">\n",
       "      <th></th>\n",
       "      <th>title</th>\n",
       "      <th>URL</th>\n",
       "      <th>date</th>\n",
       "      <th>dept</th>\n",
       "      <th>IsPublic</th>\n",
       "      <th>gov</th>\n",
       "    </tr>\n",
       "  </thead>\n",
       "  <tbody>\n",
       "    <tr>\n",
       "      <th>0</th>\n",
       "      <td>광나루수난구조대 신설에 따른 기념품 구매 대금 지급 의뢰</td>\n",
       "      <td>https://opengov.seoul.go.kr/sanction/19420205</td>\n",
       "      <td>2019-12-23</td>\n",
       "      <td>119특수구조단 수난구조대</td>\n",
       "      <td>부분공개</td>\n",
       "      <td>서울시</td>\n",
       "    </tr>\n",
       "    <tr>\n",
       "      <th>1</th>\n",
       "      <td>광나루수난구조대 신설 관련 방문객을 위한 기념품 구매 계획</td>\n",
       "      <td>https://opengov.seoul.go.kr/sanction/19394308</td>\n",
       "      <td>2019-12-19</td>\n",
       "      <td>119특수구조단 수난구조대</td>\n",
       "      <td>부분공개</td>\n",
       "      <td>서울시</td>\n",
       "    </tr>\n",
       "    <tr>\n",
       "      <th>2</th>\n",
       "      <td>물품검사(수)조서(특수구조대 소방.군 업무협약체결 기념품 구매)</td>\n",
       "      <td>https://opengov.seoul.go.kr/sanction/8593265</td>\n",
       "      <td>2016-05-26</td>\n",
       "      <td>119특수구조단 특수구조대</td>\n",
       "      <td>공개</td>\n",
       "      <td>서울시</td>\n",
       "    </tr>\n",
       "    <tr>\n",
       "      <th>3</th>\n",
       "      <td>119특수구조단 외부 유관기관 사업추진을 위한 기념품 구매 결과 보고</td>\n",
       "      <td>https://opengov.seoul.go.kr/sanction/23742643</td>\n",
       "      <td>2021-09-17</td>\n",
       "      <td>119특수구조단 행정지원과</td>\n",
       "      <td>부분공개</td>\n",
       "      <td>서울시</td>\n",
       "    </tr>\n",
       "    <tr>\n",
       "      <th>4</th>\n",
       "      <td>119특수구조단 외부 유관기관 사업추진을 위한 기념품 구매</td>\n",
       "      <td>https://opengov.seoul.go.kr/sanction/23715008</td>\n",
       "      <td>2021-09-15</td>\n",
       "      <td>119특수구조단 행정지원과</td>\n",
       "      <td>부분공개</td>\n",
       "      <td>서울시</td>\n",
       "    </tr>\n",
       "  </tbody>\n",
       "</table>\n",
       "</div>"
      ],
      "text/plain": [
       "                                    title  \\\n",
       "0         광나루수난구조대 신설에 따른 기념품 구매 대금 지급 의뢰   \n",
       "1        광나루수난구조대 신설 관련 방문객을 위한 기념품 구매 계획   \n",
       "2     물품검사(수)조서(특수구조대 소방.군 업무협약체결 기념품 구매)   \n",
       "3  119특수구조단 외부 유관기관 사업추진을 위한 기념품 구매 결과 보고   \n",
       "4        119특수구조단 외부 유관기관 사업추진을 위한 기념품 구매   \n",
       "\n",
       "                                             URL        date            dept  \\\n",
       "0  https://opengov.seoul.go.kr/sanction/19420205  2019-12-23  119특수구조단 수난구조대   \n",
       "1  https://opengov.seoul.go.kr/sanction/19394308  2019-12-19  119특수구조단 수난구조대   \n",
       "2   https://opengov.seoul.go.kr/sanction/8593265  2016-05-26  119특수구조단 특수구조대   \n",
       "3  https://opengov.seoul.go.kr/sanction/23742643  2021-09-17  119특수구조단 행정지원과   \n",
       "4  https://opengov.seoul.go.kr/sanction/23715008  2021-09-15  119특수구조단 행정지원과   \n",
       "\n",
       "  IsPublic  gov  \n",
       "0     부분공개  서울시  \n",
       "1     부분공개  서울시  \n",
       "2       공개  서울시  \n",
       "3     부분공개  서울시  \n",
       "4     부분공개  서울시  "
      ]
     },
     "execution_count": 5,
     "metadata": {},
     "output_type": "execute_result"
    }
   ],
   "source": [
    "import pandas as pd\n",
    "df= pd.read_excel(r'C:\\Users\\user\\Test\\기념품_seoul_2016-01-01_2022-05-16.xlsx')\n",
    "df.head()"
   ]
  },
  {
   "cell_type": "code",
   "execution_count": 6,
   "metadata": {},
   "outputs": [
    {
     "data": {
      "text/html": [
       "<div>\n",
       "<style scoped>\n",
       "    .dataframe tbody tr th:only-of-type {\n",
       "        vertical-align: middle;\n",
       "    }\n",
       "\n",
       "    .dataframe tbody tr th {\n",
       "        vertical-align: top;\n",
       "    }\n",
       "\n",
       "    .dataframe thead th {\n",
       "        text-align: right;\n",
       "    }\n",
       "</style>\n",
       "<table border=\"1\" class=\"dataframe\">\n",
       "  <thead>\n",
       "    <tr style=\"text-align: right;\">\n",
       "      <th></th>\n",
       "      <th>title</th>\n",
       "      <th>URL</th>\n",
       "      <th>dept</th>\n",
       "    </tr>\n",
       "  </thead>\n",
       "  <tbody>\n",
       "    <tr>\n",
       "      <th>1003</th>\n",
       "      <td>2016 정비사업 정책공감 워크숍 기념품(폰폼 스냅링) 구매대금 지급</td>\n",
       "      <td>https://opengov.seoul.go.kr/sanction/10208640</td>\n",
       "      <td>도시재생본부 재생협력과</td>\n",
       "    </tr>\n",
       "    <tr>\n",
       "      <th>1001</th>\n",
       "      <td>2016 정비사업 정책공감 워크숍 기념품(스냅링 네모) 구매(추가)</td>\n",
       "      <td>https://opengov.seoul.go.kr/sanction/10393646</td>\n",
       "      <td>도시재생본부 재생협력과</td>\n",
       "    </tr>\n",
       "    <tr>\n",
       "      <th>3822</th>\n",
       "      <td>물품검사(수)조서 - 특별전 &lt;고구려 고분벽화&gt; 기념품 제작</td>\n",
       "      <td>https://opengov.seoul.go.kr/sanction/11216182</td>\n",
       "      <td>한성백제박물관 전시기획과</td>\n",
       "    </tr>\n",
       "    <tr>\n",
       "      <th>2392</th>\n",
       "      <td>서울종합방재센터 홍보 기념품 장갑 제작구매건 원인행위 요청</td>\n",
       "      <td>https://opengov.seoul.go.kr/sanction/11254678</td>\n",
       "      <td>서울종합방재센터 종합상황실</td>\n",
       "    </tr>\n",
       "    <tr>\n",
       "      <th>2818</th>\n",
       "      <td>2017 미술관 홍보기념품 제작 및 배부 계획</td>\n",
       "      <td>https://opengov.seoul.go.kr/sanction/11839179</td>\n",
       "      <td>시립미술관 학예연구부 교육홍보과</td>\n",
       "    </tr>\n",
       "    <tr>\n",
       "      <th>...</th>\n",
       "      <td>...</td>\n",
       "      <td>...</td>\n",
       "      <td>...</td>\n",
       "    </tr>\n",
       "    <tr>\n",
       "      <th>275</th>\n",
       "      <td>서울 상징 관광기념품 추가구매 (한옥마을 자개 명함함 2차)</td>\n",
       "      <td>https://opengov.seoul.go.kr/sanction/9312789</td>\n",
       "      <td>관광체육국 관광사업과</td>\n",
       "    </tr>\n",
       "    <tr>\n",
       "      <th>1214</th>\n",
       "      <td>견학 방문 기념품 구매 계획</td>\n",
       "      <td>https://opengov.seoul.go.kr/sanction/9588260</td>\n",
       "      <td>물재생센터 중랑물재생센터 관리과</td>\n",
       "    </tr>\n",
       "    <tr>\n",
       "      <th>2824</th>\n",
       "      <td>물품검사(수)조서-2016년 시립미술관 홍보용 기념품 제작 구매</td>\n",
       "      <td>https://opengov.seoul.go.kr/sanction/9635665</td>\n",
       "      <td>시립미술관 학예연구부 교육홍보과</td>\n",
       "    </tr>\n",
       "    <tr>\n",
       "      <th>271</th>\n",
       "      <td>태권도 상설공연 만족도조사를 위한 기념품 구매</td>\n",
       "      <td>https://opengov.seoul.go.kr/sanction/9806595</td>\n",
       "      <td>관광체육국 관광사업과</td>\n",
       "    </tr>\n",
       "    <tr>\n",
       "      <th>2718</th>\n",
       "      <td>북서울미술관 기념품 구매 계획</td>\n",
       "      <td>https://opengov.seoul.go.kr/sanction/9937407</td>\n",
       "      <td>시립미술관 북서울미술관 학예과</td>\n",
       "    </tr>\n",
       "  </tbody>\n",
       "</table>\n",
       "<p>107 rows × 3 columns</p>\n",
       "</div>"
      ],
      "text/plain": [
       "                                       title  \\\n",
       "1003  2016 정비사업 정책공감 워크숍 기념품(폰폼 스냅링) 구매대금 지급   \n",
       "1001   2016 정비사업 정책공감 워크숍 기념품(스냅링 네모) 구매(추가)   \n",
       "3822       물품검사(수)조서 - 특별전 <고구려 고분벽화> 기념품 제작   \n",
       "2392        서울종합방재센터 홍보 기념품 장갑 제작구매건 원인행위 요청   \n",
       "2818               2017 미술관 홍보기념품 제작 및 배부 계획   \n",
       "...                                      ...   \n",
       "275        서울 상징 관광기념품 추가구매 (한옥마을 자개 명함함 2차)   \n",
       "1214                         견학 방문 기념품 구매 계획   \n",
       "2824     물품검사(수)조서-2016년 시립미술관 홍보용 기념품 제작 구매   \n",
       "271                태권도 상설공연 만족도조사를 위한 기념품 구매   \n",
       "2718                        북서울미술관 기념품 구매 계획   \n",
       "\n",
       "                                                URL               dept  \n",
       "1003  https://opengov.seoul.go.kr/sanction/10208640       도시재생본부 재생협력과  \n",
       "1001  https://opengov.seoul.go.kr/sanction/10393646       도시재생본부 재생협력과  \n",
       "3822  https://opengov.seoul.go.kr/sanction/11216182      한성백제박물관 전시기획과  \n",
       "2392  https://opengov.seoul.go.kr/sanction/11254678     서울종합방재센터 종합상황실  \n",
       "2818  https://opengov.seoul.go.kr/sanction/11839179  시립미술관 학예연구부 교육홍보과  \n",
       "...                                             ...                ...  \n",
       "275    https://opengov.seoul.go.kr/sanction/9312789        관광체육국 관광사업과  \n",
       "1214   https://opengov.seoul.go.kr/sanction/9588260  물재생센터 중랑물재생센터 관리과  \n",
       "2824   https://opengov.seoul.go.kr/sanction/9635665  시립미술관 학예연구부 교육홍보과  \n",
       "271    https://opengov.seoul.go.kr/sanction/9806595        관광체육국 관광사업과  \n",
       "2718   https://opengov.seoul.go.kr/sanction/9937407   시립미술관 북서울미술관 학예과  \n",
       "\n",
       "[107 rows x 3 columns]"
      ]
     },
     "execution_count": 6,
     "metadata": {},
     "output_type": "execute_result"
    }
   ],
   "source": [
    "df.loc[df['URL'].isin(url_list),['title','URL','dept']].sort_values(by='URL')"
   ]
  },
  {
   "cell_type": "code",
   "execution_count": 7,
   "metadata": {},
   "outputs": [],
   "source": [
    "Standard_df= df.loc[df['URL'].isin(url_list),['title','URL','dept']].sort_values(by='URL')\n",
    "Standard_df['file_name'] = files"
   ]
  },
  {
   "cell_type": "code",
   "execution_count": 8,
   "metadata": {},
   "outputs": [
    {
     "data": {
      "text/html": [
       "<div>\n",
       "<style scoped>\n",
       "    .dataframe tbody tr th:only-of-type {\n",
       "        vertical-align: middle;\n",
       "    }\n",
       "\n",
       "    .dataframe tbody tr th {\n",
       "        vertical-align: top;\n",
       "    }\n",
       "\n",
       "    .dataframe thead th {\n",
       "        text-align: right;\n",
       "    }\n",
       "</style>\n",
       "<table border=\"1\" class=\"dataframe\">\n",
       "  <thead>\n",
       "    <tr style=\"text-align: right;\">\n",
       "      <th></th>\n",
       "      <th>title</th>\n",
       "      <th>URL</th>\n",
       "      <th>dept</th>\n",
       "      <th>file_name</th>\n",
       "    </tr>\n",
       "  </thead>\n",
       "  <tbody>\n",
       "    <tr>\n",
       "      <th>1003</th>\n",
       "      <td>2016 정비사업 정책공감 워크숍 기념품(폰폼 스냅링) 구매대금 지급</td>\n",
       "      <td>https://opengov.seoul.go.kr/sanction/10208640</td>\n",
       "      <td>도시재생본부 재생협력과</td>\n",
       "      <td>결재문서본문.hwp</td>\n",
       "    </tr>\n",
       "    <tr>\n",
       "      <th>1001</th>\n",
       "      <td>2016 정비사업 정책공감 워크숍 기념품(스냅링 네모) 구매(추가)</td>\n",
       "      <td>https://opengov.seoul.go.kr/sanction/10393646</td>\n",
       "      <td>도시재생본부 재생협력과</td>\n",
       "      <td>결재문서본문 (1).hwp</td>\n",
       "    </tr>\n",
       "    <tr>\n",
       "      <th>3822</th>\n",
       "      <td>물품검사(수)조서 - 특별전 &lt;고구려 고분벽화&gt; 기념품 제작</td>\n",
       "      <td>https://opengov.seoul.go.kr/sanction/11216182</td>\n",
       "      <td>한성백제박물관 전시기획과</td>\n",
       "      <td>결재문서본문 (2).hwp</td>\n",
       "    </tr>\n",
       "    <tr>\n",
       "      <th>2392</th>\n",
       "      <td>서울종합방재센터 홍보 기념품 장갑 제작구매건 원인행위 요청</td>\n",
       "      <td>https://opengov.seoul.go.kr/sanction/11254678</td>\n",
       "      <td>서울종합방재센터 종합상황실</td>\n",
       "      <td>결재문서본문 (3).hwp</td>\n",
       "    </tr>\n",
       "    <tr>\n",
       "      <th>2818</th>\n",
       "      <td>2017 미술관 홍보기념품 제작 및 배부 계획</td>\n",
       "      <td>https://opengov.seoul.go.kr/sanction/11839179</td>\n",
       "      <td>시립미술관 학예연구부 교육홍보과</td>\n",
       "      <td>결재문서본문 (4).hwp</td>\n",
       "    </tr>\n",
       "    <tr>\n",
       "      <th>...</th>\n",
       "      <td>...</td>\n",
       "      <td>...</td>\n",
       "      <td>...</td>\n",
       "      <td>...</td>\n",
       "    </tr>\n",
       "    <tr>\n",
       "      <th>275</th>\n",
       "      <td>서울 상징 관광기념품 추가구매 (한옥마을 자개 명함함 2차)</td>\n",
       "      <td>https://opengov.seoul.go.kr/sanction/9312789</td>\n",
       "      <td>관광체육국 관광사업과</td>\n",
       "      <td>결재문서본문 - 2022-05-19T130609.173.hwp</td>\n",
       "    </tr>\n",
       "    <tr>\n",
       "      <th>1214</th>\n",
       "      <td>견학 방문 기념품 구매 계획</td>\n",
       "      <td>https://opengov.seoul.go.kr/sanction/9588260</td>\n",
       "      <td>물재생센터 중랑물재생센터 관리과</td>\n",
       "      <td>결재문서본문 - 2022-05-19T130612.724.hwp</td>\n",
       "    </tr>\n",
       "    <tr>\n",
       "      <th>2824</th>\n",
       "      <td>물품검사(수)조서-2016년 시립미술관 홍보용 기념품 제작 구매</td>\n",
       "      <td>https://opengov.seoul.go.kr/sanction/9635665</td>\n",
       "      <td>시립미술관 학예연구부 교육홍보과</td>\n",
       "      <td>결재문서본문 - 2022-05-19T130615.274.hwp</td>\n",
       "    </tr>\n",
       "    <tr>\n",
       "      <th>271</th>\n",
       "      <td>태권도 상설공연 만족도조사를 위한 기념품 구매</td>\n",
       "      <td>https://opengov.seoul.go.kr/sanction/9806595</td>\n",
       "      <td>관광체육국 관광사업과</td>\n",
       "      <td>결재문서본문 - 2022-05-19T130618.245.hwp</td>\n",
       "    </tr>\n",
       "    <tr>\n",
       "      <th>2718</th>\n",
       "      <td>북서울미술관 기념품 구매 계획</td>\n",
       "      <td>https://opengov.seoul.go.kr/sanction/9937407</td>\n",
       "      <td>시립미술관 북서울미술관 학예과</td>\n",
       "      <td>결재문서본문 - 2022-05-19T130620.772.hwp</td>\n",
       "    </tr>\n",
       "  </tbody>\n",
       "</table>\n",
       "<p>107 rows × 4 columns</p>\n",
       "</div>"
      ],
      "text/plain": [
       "                                       title  \\\n",
       "1003  2016 정비사업 정책공감 워크숍 기념품(폰폼 스냅링) 구매대금 지급   \n",
       "1001   2016 정비사업 정책공감 워크숍 기념품(스냅링 네모) 구매(추가)   \n",
       "3822       물품검사(수)조서 - 특별전 <고구려 고분벽화> 기념품 제작   \n",
       "2392        서울종합방재센터 홍보 기념품 장갑 제작구매건 원인행위 요청   \n",
       "2818               2017 미술관 홍보기념품 제작 및 배부 계획   \n",
       "...                                      ...   \n",
       "275        서울 상징 관광기념품 추가구매 (한옥마을 자개 명함함 2차)   \n",
       "1214                         견학 방문 기념품 구매 계획   \n",
       "2824     물품검사(수)조서-2016년 시립미술관 홍보용 기념품 제작 구매   \n",
       "271                태권도 상설공연 만족도조사를 위한 기념품 구매   \n",
       "2718                        북서울미술관 기념품 구매 계획   \n",
       "\n",
       "                                                URL               dept  \\\n",
       "1003  https://opengov.seoul.go.kr/sanction/10208640       도시재생본부 재생협력과   \n",
       "1001  https://opengov.seoul.go.kr/sanction/10393646       도시재생본부 재생협력과   \n",
       "3822  https://opengov.seoul.go.kr/sanction/11216182      한성백제박물관 전시기획과   \n",
       "2392  https://opengov.seoul.go.kr/sanction/11254678     서울종합방재센터 종합상황실   \n",
       "2818  https://opengov.seoul.go.kr/sanction/11839179  시립미술관 학예연구부 교육홍보과   \n",
       "...                                             ...                ...   \n",
       "275    https://opengov.seoul.go.kr/sanction/9312789        관광체육국 관광사업과   \n",
       "1214   https://opengov.seoul.go.kr/sanction/9588260  물재생센터 중랑물재생센터 관리과   \n",
       "2824   https://opengov.seoul.go.kr/sanction/9635665  시립미술관 학예연구부 교육홍보과   \n",
       "271    https://opengov.seoul.go.kr/sanction/9806595        관광체육국 관광사업과   \n",
       "2718   https://opengov.seoul.go.kr/sanction/9937407   시립미술관 북서울미술관 학예과   \n",
       "\n",
       "                               file_name  \n",
       "1003                          결재문서본문.hwp  \n",
       "1001                      결재문서본문 (1).hwp  \n",
       "3822                      결재문서본문 (2).hwp  \n",
       "2392                      결재문서본문 (3).hwp  \n",
       "2818                      결재문서본문 (4).hwp  \n",
       "...                                  ...  \n",
       "275   결재문서본문 - 2022-05-19T130609.173.hwp  \n",
       "1214  결재문서본문 - 2022-05-19T130612.724.hwp  \n",
       "2824  결재문서본문 - 2022-05-19T130615.274.hwp  \n",
       "271   결재문서본문 - 2022-05-19T130618.245.hwp  \n",
       "2718  결재문서본문 - 2022-05-19T130620.772.hwp  \n",
       "\n",
       "[107 rows x 4 columns]"
      ]
     },
     "execution_count": 8,
     "metadata": {},
     "output_type": "execute_result"
    }
   ],
   "source": [
    "Standard_df"
   ]
  },
  {
   "cell_type": "code",
   "execution_count": 9,
   "metadata": {},
   "outputs": [],
   "source": [
    "#t_list= Standard_df['title'].tolist()"
   ]
  },
  {
   "cell_type": "code",
   "execution_count": 10,
   "metadata": {},
   "outputs": [],
   "source": [
    "#f_list= Standard_df['file_name'].tolist()"
   ]
  },
  {
   "cell_type": "code",
   "execution_count": 11,
   "metadata": {},
   "outputs": [
    {
     "data": {
      "text/plain": [
       "\"\\nfor i in range(107): # 에러가 잘 발생\\n    os.rename(os.path.join(os.getcwd(),f_list[i]),os.path.join(os.getcwd(),t_list[i]+'.hwp'))\\n    \""
      ]
     },
     "execution_count": 11,
     "metadata": {},
     "output_type": "execute_result"
    }
   ],
   "source": [
    "'''\n",
    "for i in range(107): # 에러가 잘 발생\n",
    "    os.rename(os.path.join(os.getcwd(),f_list[i]),os.path.join(os.getcwd(),t_list[i]+'.hwp'))\n",
    "    '''"
   ]
  },
  {
   "cell_type": "code",
   "execution_count": 12,
   "metadata": {},
   "outputs": [
    {
     "data": {
      "text/plain": [
       "'에러발생\\n1) 특별전 <고구려 고분벽화> 기념품 제작.hwp - \\\\ / : ? \" < > | 파일명으로 사용 불가\\n2) 동일한 title이 있으면 중복 불가\\n'"
      ]
     },
     "execution_count": 12,
     "metadata": {},
     "output_type": "execute_result"
    }
   ],
   "source": [
    "'''에러발생\n",
    "1) 특별전 <고구려 고분벽화> 기념품 제작.hwp - \\ / : ? \" < > | 파일명으로 사용 불가\n",
    "2) 동일한 title이 있으면 중복 불가\n",
    "'''"
   ]
  },
  {
   "cell_type": "markdown",
   "metadata": {},
   "source": [
    "# 발생한 에러 해결\n",
    "1) 파일명으로 사용 불가인 특수문자 제거\n",
    "2) 중복 title 구분"
   ]
  },
  {
   "cell_type": "code",
   "execution_count": 13,
   "metadata": {},
   "outputs": [
    {
     "data": {
      "text/plain": [
       "'\\\\/:?\"<>|'"
      ]
     },
     "execution_count": 13,
     "metadata": {},
     "output_type": "execute_result"
    }
   ],
   "source": [
    "'\\/:?\"<>|'"
   ]
  },
  {
   "cell_type": "code",
   "execution_count": 14,
   "metadata": {},
   "outputs": [
    {
     "data": {
      "text/html": [
       "<div>\n",
       "<style scoped>\n",
       "    .dataframe tbody tr th:only-of-type {\n",
       "        vertical-align: middle;\n",
       "    }\n",
       "\n",
       "    .dataframe tbody tr th {\n",
       "        vertical-align: top;\n",
       "    }\n",
       "\n",
       "    .dataframe thead th {\n",
       "        text-align: right;\n",
       "    }\n",
       "</style>\n",
       "<table border=\"1\" class=\"dataframe\">\n",
       "  <thead>\n",
       "    <tr style=\"text-align: right;\">\n",
       "      <th></th>\n",
       "      <th>title</th>\n",
       "      <th>URL</th>\n",
       "      <th>dept</th>\n",
       "      <th>file_name</th>\n",
       "    </tr>\n",
       "  </thead>\n",
       "  <tbody>\n",
       "    <tr>\n",
       "      <th>3822</th>\n",
       "      <td>물품검사(수)조서 - 특별전 &lt;고구려 고분벽화&gt; 기념품 제작</td>\n",
       "      <td>https://opengov.seoul.go.kr/sanction/11216182</td>\n",
       "      <td>한성백제박물관 전시기획과</td>\n",
       "      <td>결재문서본문 (2).hwp</td>\n",
       "    </tr>\n",
       "    <tr>\n",
       "      <th>2726</th>\n",
       "      <td>물품검사(수)조서_2021 지역친화프로그램&lt;정동스케이프&gt; 기념품 제작 구입</td>\n",
       "      <td>https://opengov.seoul.go.kr/sanction/24973362</td>\n",
       "      <td>시립미술관 학예연구부 교육홍보과</td>\n",
       "      <td>결재문서본문 (89).hwp</td>\n",
       "    </tr>\n",
       "  </tbody>\n",
       "</table>\n",
       "</div>"
      ],
      "text/plain": [
       "                                          title  \\\n",
       "3822          물품검사(수)조서 - 특별전 <고구려 고분벽화> 기념품 제작   \n",
       "2726  물품검사(수)조서_2021 지역친화프로그램<정동스케이프> 기념품 제작 구입   \n",
       "\n",
       "                                                URL               dept  \\\n",
       "3822  https://opengov.seoul.go.kr/sanction/11216182      한성백제박물관 전시기획과   \n",
       "2726  https://opengov.seoul.go.kr/sanction/24973362  시립미술관 학예연구부 교육홍보과   \n",
       "\n",
       "            file_name  \n",
       "3822   결재문서본문 (2).hwp  \n",
       "2726  결재문서본문 (89).hwp  "
      ]
     },
     "execution_count": 14,
     "metadata": {},
     "output_type": "execute_result"
    }
   ],
   "source": [
    "Standard_df[Standard_df['title'].str.contains('\\\\|\\/|\\:|\\?|\\\"|\\<|\\>|\\|')] #특수문자 포함"
   ]
  },
  {
   "cell_type": "code",
   "execution_count": 15,
   "metadata": {},
   "outputs": [],
   "source": [
    "def processString(txt): #함수설정\n",
    "  specialChars = \"!#$%^&*<>\\\\|/:*?\\\"\" \n",
    "  for specialChar in specialChars:\n",
    "    txt = txt.replace(specialChar, '')\n",
    "  #print(txt)\n",
    "  txt= txt.replace(',','')\n",
    "  #print(txt)\n",
    "  return txt"
   ]
  },
  {
   "cell_type": "code",
   "execution_count": 16,
   "metadata": {},
   "outputs": [
    {
     "data": {
      "text/plain": [
       "'물품검사(수)조서 - 특별전 고구려 고분벽화 기념품 제작'"
      ]
     },
     "execution_count": 16,
     "metadata": {},
     "output_type": "execute_result"
    }
   ],
   "source": [
    "processString('물품검사(수)조서 - 특별전 <고구려 고분벽화> 기념품 제작')"
   ]
  },
  {
   "cell_type": "code",
   "execution_count": 17,
   "metadata": {},
   "outputs": [
    {
     "data": {
      "text/plain": [
       "'물품검사(수)조서_2021 지역친화프로그램정동스케이프 기념품 제작 구입'"
      ]
     },
     "execution_count": 17,
     "metadata": {},
     "output_type": "execute_result"
    }
   ],
   "source": [
    "processString('물품검사(수)조서_2021 지역친화프로그램<정동스케이프> 기념품 제작 구입')"
   ]
  },
  {
   "cell_type": "code",
   "execution_count": 18,
   "metadata": {},
   "outputs": [
    {
     "data": {
      "text/plain": [
       "3822            물품검사(수)조서 - 특별전 고구려 고분벽화 기념품 제작\n",
       "2726    물품검사(수)조서_2021 지역친화프로그램정동스케이프 기념품 제작 구입\n",
       "Name: title, dtype: object"
      ]
     },
     "execution_count": 18,
     "metadata": {},
     "output_type": "execute_result"
    }
   ],
   "source": [
    "Standard_df.loc[Standard_df['title'].str.contains('\\\\|\\/|\\:|\\?|\\\"|\\<|\\>|\\|'),'title'].apply(processString)"
   ]
  },
  {
   "cell_type": "code",
   "execution_count": 19,
   "metadata": {},
   "outputs": [],
   "source": [
    "Standard_df.loc[:,'title'] = Standard_df.loc[:,'title'].apply(processString)"
   ]
  },
  {
   "cell_type": "code",
   "execution_count": 20,
   "metadata": {},
   "outputs": [
    {
     "data": {
      "text/html": [
       "<div>\n",
       "<style scoped>\n",
       "    .dataframe tbody tr th:only-of-type {\n",
       "        vertical-align: middle;\n",
       "    }\n",
       "\n",
       "    .dataframe tbody tr th {\n",
       "        vertical-align: top;\n",
       "    }\n",
       "\n",
       "    .dataframe thead th {\n",
       "        text-align: right;\n",
       "    }\n",
       "</style>\n",
       "<table border=\"1\" class=\"dataframe\">\n",
       "  <thead>\n",
       "    <tr style=\"text-align: right;\">\n",
       "      <th></th>\n",
       "      <th>title</th>\n",
       "      <th>URL</th>\n",
       "      <th>dept</th>\n",
       "      <th>file_name</th>\n",
       "    </tr>\n",
       "  </thead>\n",
       "  <tbody>\n",
       "  </tbody>\n",
       "</table>\n",
       "</div>"
      ],
      "text/plain": [
       "Empty DataFrame\n",
       "Columns: [title, URL, dept, file_name]\n",
       "Index: []"
      ]
     },
     "execution_count": 20,
     "metadata": {},
     "output_type": "execute_result"
    }
   ],
   "source": [
    "Standard_df[Standard_df['title'].str.contains('\\\\|\\/|\\:|\\?|\\\"|\\<|\\>|\\|')] # 해결"
   ]
  },
  {
   "cell_type": "code",
   "execution_count": 21,
   "metadata": {},
   "outputs": [
    {
     "data": {
      "text/html": [
       "<div>\n",
       "<style scoped>\n",
       "    .dataframe tbody tr th:only-of-type {\n",
       "        vertical-align: middle;\n",
       "    }\n",
       "\n",
       "    .dataframe tbody tr th {\n",
       "        vertical-align: top;\n",
       "    }\n",
       "\n",
       "    .dataframe thead th {\n",
       "        text-align: right;\n",
       "    }\n",
       "</style>\n",
       "<table border=\"1\" class=\"dataframe\">\n",
       "  <thead>\n",
       "    <tr style=\"text-align: right;\">\n",
       "      <th></th>\n",
       "      <th>title</th>\n",
       "      <th>URL</th>\n",
       "      <th>dept</th>\n",
       "      <th>file_name</th>\n",
       "    </tr>\n",
       "  </thead>\n",
       "  <tbody>\n",
       "    <tr>\n",
       "      <th>2907</th>\n",
       "      <td>서울 브랜드 기념품 제작 및 활용계획 보고</td>\n",
       "      <td>https://opengov.seoul.go.kr/sanction/14859976</td>\n",
       "      <td>시민소통기획관 도시브랜드담당관</td>\n",
       "      <td>결재문서본문 (21).hwp</td>\n",
       "    </tr>\n",
       "    <tr>\n",
       "      <th>2325</th>\n",
       "      <td>서울종합방재센터 홍보기념품 구매 계획 보고</td>\n",
       "      <td>https://opengov.seoul.go.kr/sanction/18731900</td>\n",
       "      <td>서울종합방재센터 종합상황실</td>\n",
       "      <td>결재문서본문 (42).hwp</td>\n",
       "    </tr>\n",
       "    <tr>\n",
       "      <th>1321</th>\n",
       "      <td>수도사업 국내·외 확대를 위한 대외 교류용 기념품 구매 계획</td>\n",
       "      <td>https://opengov.seoul.go.kr/sanction/19268703</td>\n",
       "      <td>상수도사업본부 본부 경영관리부 대외협력과</td>\n",
       "      <td>결재문서본문 (49).hwp</td>\n",
       "    </tr>\n",
       "    <tr>\n",
       "      <th>1193</th>\n",
       "      <td>서울하수도과학관 방문 기념품 구매 계획</td>\n",
       "      <td>https://opengov.seoul.go.kr/sanction/20007089</td>\n",
       "      <td>물재생센터 중랑물재생센터 관리과</td>\n",
       "      <td>결재문서본문 (54).hwp</td>\n",
       "    </tr>\n",
       "    <tr>\n",
       "      <th>2681</th>\n",
       "      <td>- 북서울미술관 문화행사 운영 - 기념품 구매 계획(안)</td>\n",
       "      <td>https://opengov.seoul.go.kr/sanction/20415870</td>\n",
       "      <td>시립미술관 북서울미술관 운영과</td>\n",
       "      <td>결재문서본문 (55).hwp</td>\n",
       "    </tr>\n",
       "    <tr>\n",
       "      <th>2299</th>\n",
       "      <td>서울종합방재센터 홍보기념품 제작(구매) 계획 보고</td>\n",
       "      <td>https://opengov.seoul.go.kr/sanction/23388667</td>\n",
       "      <td>서울종합방재센터 종합상황실</td>\n",
       "      <td>결재문서본문 (76).hwp</td>\n",
       "    </tr>\n",
       "    <tr>\n",
       "      <th>2434</th>\n",
       "      <td>서울종합방재센터 BI적용 홍보기념품 구매 계획</td>\n",
       "      <td>https://opengov.seoul.go.kr/sanction/7908157</td>\n",
       "      <td>서울종합방재센터 종합상황실</td>\n",
       "      <td>결재문서본문 (94).hwp</td>\n",
       "    </tr>\n",
       "    <tr>\n",
       "      <th>2425</th>\n",
       "      <td>서울종합방재센터 BI적용 홍보기념품 구매 계획</td>\n",
       "      <td>https://opengov.seoul.go.kr/sanction/8462084</td>\n",
       "      <td>서울종합방재센터 종합상황실</td>\n",
       "      <td>결재문서본문 (95).hwp</td>\n",
       "    </tr>\n",
       "  </tbody>\n",
       "</table>\n",
       "</div>"
      ],
      "text/plain": [
       "                                  title  \\\n",
       "2907            서울 브랜드 기념품 제작 및 활용계획 보고   \n",
       "2325            서울종합방재센터 홍보기념품 구매 계획 보고   \n",
       "1321  수도사업 국내·외 확대를 위한 대외 교류용 기념품 구매 계획   \n",
       "1193              서울하수도과학관 방문 기념품 구매 계획   \n",
       "2681    - 북서울미술관 문화행사 운영 - 기념품 구매 계획(안)   \n",
       "2299        서울종합방재센터 홍보기념품 제작(구매) 계획 보고   \n",
       "2434          서울종합방재센터 BI적용 홍보기념품 구매 계획   \n",
       "2425          서울종합방재센터 BI적용 홍보기념품 구매 계획   \n",
       "\n",
       "                                                URL                    dept  \\\n",
       "2907  https://opengov.seoul.go.kr/sanction/14859976        시민소통기획관 도시브랜드담당관   \n",
       "2325  https://opengov.seoul.go.kr/sanction/18731900          서울종합방재센터 종합상황실   \n",
       "1321  https://opengov.seoul.go.kr/sanction/19268703  상수도사업본부 본부 경영관리부 대외협력과   \n",
       "1193  https://opengov.seoul.go.kr/sanction/20007089       물재생센터 중랑물재생센터 관리과   \n",
       "2681  https://opengov.seoul.go.kr/sanction/20415870        시립미술관 북서울미술관 운영과   \n",
       "2299  https://opengov.seoul.go.kr/sanction/23388667          서울종합방재센터 종합상황실   \n",
       "2434   https://opengov.seoul.go.kr/sanction/7908157          서울종합방재센터 종합상황실   \n",
       "2425   https://opengov.seoul.go.kr/sanction/8462084          서울종합방재센터 종합상황실   \n",
       "\n",
       "            file_name  \n",
       "2907  결재문서본문 (21).hwp  \n",
       "2325  결재문서본문 (42).hwp  \n",
       "1321  결재문서본문 (49).hwp  \n",
       "1193  결재문서본문 (54).hwp  \n",
       "2681  결재문서본문 (55).hwp  \n",
       "2299  결재문서본문 (76).hwp  \n",
       "2434  결재문서본문 (94).hwp  \n",
       "2425  결재문서본문 (95).hwp  "
      ]
     },
     "execution_count": 21,
     "metadata": {},
     "output_type": "execute_result"
    }
   ],
   "source": [
    "Standard_df[Standard_df['title'].duplicated()] #중복값들"
   ]
  },
  {
   "cell_type": "code",
   "execution_count": 22,
   "metadata": {},
   "outputs": [],
   "source": [
    "t_list= Standard_df['title'].tolist()\n",
    "f_list= Standard_df['file_name'].tolist()\n",
    "d_list= Standard_df['dept'].tolist()"
   ]
  },
  {
   "cell_type": "code",
   "execution_count": 23,
   "metadata": {},
   "outputs": [],
   "source": [
    "#d_list"
   ]
  },
  {
   "cell_type": "code",
   "execution_count": 24,
   "metadata": {},
   "outputs": [
    {
     "name": "stdout",
     "output_type": "stream",
     "text": [
      "2016 정비사업 정책공감 워크숍 기념품(폰폼 스냅링) 구매대금 지급_1\n",
      "2016 정비사업 정책공감 워크숍 기념품(스냅링 네모) 구매(추가)_2\n",
      "물품검사(수)조서 - 특별전 고구려 고분벽화 기념품 제작_3\n",
      "서울종합방재센터 홍보 기념품 장갑 제작구매건 원인행위 요청_4\n",
      "2017 미술관 홍보기념품 제작 및 배부 계획_5\n",
      "서울드럼페스티벌 관람객 기념품 제작 및 구매_6\n",
      "OECD 지역연구투어 연구진 기념품 구매 비용 지급_7\n",
      "서울시 - 타 지방자치단체간 교류협력 추진을 위한 기념품 구매_8\n",
      "하수도과학관 기념품 구매 계획_9\n",
      "물품검사(수)조서(미술관 기념품-티포크 패키지 디자인 및 제작구매)_10\n",
      "물 품 검 사 (수) 조 서 - tbs 라디오국 공개방송 기념품 제작_11\n",
      "동북아 주요도시 대기환경 협력 네트워크 구성 공무국외출장 기념품 구매(다누리)_12\n",
      "수도사업 국내·외 확대를 위한 대외 교류용 기념품 구매 계획_13\n",
      "서울종합방재센터 BI적용 홍보기념품 구매 계획_14\n",
      "23차 기후변화협약 당사국 총회 해외출장 기념품 구매_15\n",
      "서울 브랜드 기념품 제작 및 활용계획 보고_16\n",
      "물품검사(수)조서(미술관 홍보용 기념품-다이어리 제작구매비 지급)_17\n",
      "2018년 하수도과학관 기념품 구매 계획_18\n",
      "물품검사(수)조서(올림픽전시관 물품 구매)_19\n",
      "2018년 본회의장 방문 홍보기념품 구매·제공 계획_20\n",
      "- 북서울미술관 문화행사 이벤트용 - 기념품 구매 계획(안)_21\n",
      "서울 브랜드 기념품 제작 및 활용계획 보고_22\n",
      "서울이야기 발굴단(히로시마현정 관련) 기념품 구매_23\n",
      "북서울미술관 청소년 현장직업체험 기념품 구매 계획_24\n",
      "수돗물 음용의 가치 확산을 위한 홍보용 기념품 구매 계획_25\n",
      "시의회 본회의장 홍보기념품 구매 계획_26\n",
      "물품검수조서(서울상징관광기념품 쇼핑백 구매)_27\n",
      "문화비축기지 홍보 기념품 제작 및 활용계획_28\n",
      "물품검사(수)조서 (가족프로그램 '경희궁 탐험대' 교재 및 기념품 제작)_29\n",
      "2019 전국·장애인 체전 홍보기념품 제작·활용 계획_30\n",
      "서울상품 구매협약 체결지원 국외출장 관계자면담 기념품 구입_31\n",
      "샌프란시스코 플라스틱 저감 정책 조사 국외출장 기념품 구매(다누리)_32\n",
      "2019 서울도시건축비엔날레 홍보기념품 제작구매 관련 소요비용 지급_33\n",
      "서울비엔날레 홍보기념품 제작구매 소요비용 지급_34\n",
      "물 품 검 사 (수) 조 서 - 영어FM 방송출연 사례 기념품 구매_35\n",
      "서울하수도과학관 방문 기념품 구매 계획_36\n",
      "- 북서울미술관 문화행사 운영 - 기념품 구매 계획(안)_37\n",
      "-2019 서울도시건축비엔날레-홍보기념품 제작 및 활용 계획_38\n",
      "서울종합방재센터 BI적용 홍보기념품 구매 계획 보고_39\n",
      "2019 본회의장 방문 기념품 구매·제공계획_40\n",
      "서울종합방재센터 홍보기념품 구매 계획 보고_41\n",
      "tbs 매체 인지도 향상을 위한  홍보용 기념품 제작 계획_42\n",
      "서울종합방재센터 홍보기념품 구매 계획 보고_43\n",
      "2019 한강공원 기념품 제작계획_44\n",
      "청렴건설행정시스템 홍보 기념품 구매(건설총괄과)_45\n",
      "공무국외출장 기관방문 기념품 구매비 지급_46\n",
      "문화비축기지 홍보기념품 제작 계획_47\n",
      "외빈용 스마트시티 기념품 구매계획_48\n",
      "시구 공동워크숍 기념품 구매_49\n",
      "수도사업 국내·외 확대를 위한 대외 교류용 기념품 구매 계획_50\n",
      "청계천박물관 VIP 방문 기념품 제작 구매_51\n",
      "도시농업과 연말 성과보고회를 위한 기념품 구매_52\n",
      "2019 동북아 국제친선탁구대회 개최에 따른 기념품 구매비용 지급(11.21)_53\n",
      "2020년 본회의장 방문기념품 구매·제공 계획_54\n",
      "서울하수도과학관 방문 기념품 구매 계획_55\n",
      "- 북서울미술관 문화행사 운영 - 기념품 구매 계획(안)_56\n",
      "2020 수도사업 국내외 확대를 위한 대외 교류용 기념품 구매 계획_57\n",
      "교육기념품(칫솔세트) 구매_58\n",
      "스마트서울 우수정책 홍보 추진 기념품 구매 계획_59\n",
      "2020년 하반기 신입 및 전입직원 교육 기념품(우산) 구매_60\n",
      "한양도성 유적전시관 기념품 구매계획_61\n",
      "「2020 서울지식이음축제·포럼」기념품 구매 계획_62\n",
      "서울종합방재센터 홍보기념품 제작(구매) 계획 보고_63\n",
      "대외교류용 기념품 구매(만년필)_64\n",
      "2020년 시립미술관 귀빈용 기념품 제작 계획_65\n",
      "서울 오래가게 기념품 제작 및 활용 계획_66\n",
      "외국인다문화담당관 정책 홍보 기념품 구매계획_67\n",
      "대외교류용 기념품 추가구매_68\n",
      "2020년 홍보기념품 제작 및 활용 계획_69\n",
      "서울종합방재센터 시책 및 업무추진에 필요한 내방객 기념품 구매_70\n",
      "본회의장 방문 기념품 구매 계획_71\n",
      "물품검사(수)조서(2020년 서울시립미술관 귀빈용 기념품 제작)_72\n",
      "물품검사(수)조서 (백인제가옥 기념품 구매)_73\n",
      "물 품 검 사 (수) 조 서 (2021 생물다양성의 날 기념 생물다양성 미래를 지킬 가능성 관련 뽑기 기념품 구매_74\n",
      "의전용 기념품 제작계획_75\n",
      "2021년 외빈 기념품 신규 구매계획_76\n",
      "서울종합방재센터 홍보기념품 제작(구매) 계획 보고_77\n",
      "서울종합방재센터 홍보기념품(조리세트 7종) 구매 원인행위 요청_78\n",
      "「2021 서울지식이음축제·포럼」기념품 구매 계획_79\n",
      "2021년 한강공원 기념품 제작 계획_80\n",
      "센터 홍보용 기념품 구매(펜꽂이)_81\n",
      "물 품 검 사(수) 조 서 - 느낌있는 박물관 교육기념품(석호방향제) 제작_82\n",
      "외빈 기념품 포장물품 구매비용 지급_83\n",
      "교류 증진을 위한 물품 구매 비용 지급(나전 통컵)_84\n",
      "교류 증진을 위한 물품 구매 비용 지급(유기찻잔등)_85\n",
      "교류 증진을 위한 물품 구매 비용 지급(자개그림) (1)_86\n",
      "서울국제교류복합지구(SID) 홍보 기념품 제작계획_87\n",
      "2021년 홍보기념품 제작 및 활용 계획_88\n",
      "2021년 의회 방청·참관 기념품 구매·제공 계획_89\n",
      "물품검사(수)조서_2021 지역친화프로그램정동스케이프 기념품 제작 구입_90\n",
      "물품검사(수)조서 (전시 연계 기념품 제작)_91\n",
      "물품검사(수)조서-한양도성박물관 기념품제작_92\n",
      "물품검사(수)조서(백인제가옥 포토이벤트 기념품 제작)_93\n",
      "2022년 서울하수도과학관 방문 기념품 구매계획_94\n",
      "서울종합방재센터 BI적용 홍보기념품 구매 계획_95\n",
      "서울종합방재센터 BI적용 홍보기념품 구매 계획_96\n",
      "2016년 본회의장 방문기념품 구매·제공 계획_97\n",
      "물품검사(수)조서 - 2016년 제1차 체험학습교사 연수 기념품 제작_98\n",
      "서울 상징 관광기념품 수상작 구매계획_99\n",
      "서울 상징 관광기념품 구매 (한양도성 남대문 메모함)_100\n",
      "서울 상징 관광기념품 구매 (서울이야기 3단병풍)_101\n",
      "서울 상징 관광기념품 추가구매 (한양도성 디지털시계)_102\n",
      "서울 상징 관광기념품 추가구매 (한옥마을 자개 명함함 2차)_103\n",
      "견학 방문 기념품 구매 계획_104\n",
      "물품검사(수)조서-2016년 시립미술관 홍보용 기념품 제작 구매_105\n",
      "태권도 상설공연 만족도조사를 위한 기념품 구매_106\n",
      "북서울미술관 기념품 구매 계획_107\n"
     ]
    }
   ],
   "source": [
    "for num, t_name in enumerate(t_list):\n",
    "    print(f'{t_name}_{num+1}')\n",
    "    os.rename(os.path.join(os.getcwd(),f_list[num]),os.path.join(os.getcwd(),t_list[num]+f'_{d_list[num]}_{num+1}.hwp'))"
   ]
  },
  {
   "cell_type": "code",
   "execution_count": null,
   "metadata": {},
   "outputs": [],
   "source": []
  }
 ],
 "metadata": {
  "interpreter": {
   "hash": "6a926afa313b26ae1264fdcf81c726a97e69f6ba2ba780f6aa901948710f8d6e"
  },
  "kernelspec": {
   "display_name": "Python 3.8.10 64-bit",
   "language": "python",
   "name": "python3"
  },
  "language_info": {
   "codemirror_mode": {
    "name": "ipython",
    "version": 3
   },
   "file_extension": ".py",
   "mimetype": "text/x-python",
   "name": "python",
   "nbconvert_exporter": "python",
   "pygments_lexer": "ipython3",
   "version": "3.8.10"
  },
  "orig_nbformat": 4
 },
 "nbformat": 4,
 "nbformat_minor": 2
}
